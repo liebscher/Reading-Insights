{
 "cells": [
  {
   "cell_type": "code",
   "execution_count": 1,
   "metadata": {
    "collapsed": true
   },
   "outputs": [],
   "source": [
    "%matplotlib inline\n",
    "import pandas as pd\n",
    "import numpy as np\n",
    "import sys\n",
    "\n",
    "from scipy import sparse\n",
    "from scipy.stats import stats\n",
    "\n",
    "\n",
    "import wikipedia\n",
    "from wikipedia import DisambiguationError\n",
    "\n",
    "from watson_developer_cloud import NaturalLanguageUnderstandingV1\n",
    "from watson_developer_cloud.natural_language_understanding_v1 import Features, ConceptsOptions\n",
    "\n",
    "import matplotlib.pyplot as plt\n",
    "import seaborn as sns\n",
    "\n",
    "from itertools import chain\n",
    "\n",
    "from fuzzywuzzy import fuzz\n",
    "\n",
    "from sklearn import preprocessing\n",
    "from sklearn.decomposition import PCA, KernelPCA, TruncatedSVD\n",
    "from sklearn.model_selection import train_test_split\n",
    "from sklearn.gaussian_process import GaussianProcessClassifier\n",
    "from sklearn.model_selection import GridSearchCV\n",
    "from sklearn.linear_model import LogisticRegression, RidgeClassifier, SGDClassifier\n",
    "from sklearn.naive_bayes import GaussianNB\n",
    "from sklearn.svm import SVC\n",
    "from sklearn.neighbors import KNeighborsClassifier\n",
    "from sklearn.ensemble import RandomForestClassifier, AdaBoostClassifier\n",
    "from sklearn.neural_network import MLPClassifier\n",
    "from sklearn.metrics import make_scorer"
   ]
  },
  {
   "cell_type": "code",
   "execution_count": 2,
   "metadata": {},
   "outputs": [],
   "source": [
    "sns.set_style('darkgrid')"
   ]
  },
  {
   "cell_type": "code",
   "execution_count": 3,
   "metadata": {},
   "outputs": [],
   "source": [
    "ibm_creds = {\n",
    "  \"url\": \"https://gateway.watsonplatform.net/natural-language-understanding/api\",\n",
    "  \"username\": \"bb7a01e4-be21-44f1-83a3-2c316cf57d73\",\n",
    "  \"password\": \"x5LAoqvRykNR\"\n",
    "}\n",
    "natural_language_understanding = NaturalLanguageUnderstandingV1(\n",
    "  username=ibm_creds['username'],\n",
    "  password=ibm_creds['password'],\n",
    "  version='2017-02-27')"
   ]
  },
  {
   "cell_type": "code",
   "execution_count": 4,
   "metadata": {},
   "outputs": [
    {
     "name": "stdout",
     "output_type": "stream",
     "text": [
      "(51, 37)\nbook_id                            int64\ntitle                             object\nauthor                            object\ninf_north_amer                     int64\ninf_south_central_amer             int64\ninf_asia                           int64\ninf_middle_east                    int64\ninf_west_europe                    int64\ninf_east_europe                    int64\ninf_africa                         int64\ninf_oceania                        int64\nis_female                          int64\nisbn13                           float64\nrating                             int64\nagg_rating                       float64\npages                              int64\npub_year                           int64\norg_pub_year                       int64\nfinished                  datetime64[ns]\nstarted                   datetime64[ns]\nduration                           int64\nis_fiction                         int64\nis_nonfiction                      int64\nis_adventure                       int64\nis_biography                       int64\nis_drama                           int64\nis_expository                      int64\nis_historical_ficition             int64\nis_memoir                          int64\nis_philosophy                      int64\nis_poetry                          int64\nis_political_science               int64\nis_realistic_fiction               int64\nis_religion                        int64\nis_science                         int64\nis_sci_fi                          int64\nis_short_story                     int64\ndtype: object\n    book_id                                              title  \\\n0   2280676         A Concise Introduction To Tibetan Buddhism   \n1  20821131     Acid Test: LSD, Ecstasy, and the Power to Heal   \n2  18143977                        All the Light We Cannot See   \n3     73945                                            Apology   \n4  20696006  Being Mortal: Medicine and What Matters in the...   \n\n                   author  inf_north_amer  inf_south_central_amer  inf_asia  \\\n0  John Powers (academic)               1                       0         1   \n1             Tom Shroder               1                       0         0   \n2           Anthony Doerr               1                       0         0   \n3                   Plato               0                       0         0   \n4            Atul Gawande               1                       0         1   \n\n   inf_middle_east  inf_west_europe  inf_east_europe  inf_africa  \\\n0                0                0                0           0   \n1                0                0                0           0   \n2                0                0                0           0   \n3                0                1                0           0   \n4                0                0                0           0   \n\n       ...        is_historical_ficition  is_memoir  is_philosophy  is_poetry  \\\n0      ...                             0          0              0          0   \n1      ...                             0          0              0          0   \n2      ...                             1          0              0          0   \n3      ...                             0          0              1          0   \n4      ...                             0          0              0          0   \n\n   is_political_science  is_realistic_fiction  is_religion  is_science  \\\n0                     0                     0            1           0   \n1                     0                     0            0           1   \n2                     0                     0            0           0   \n3                     0                     0            0           0   \n4                     0                     0            0           1   \n\n  is_sci_fi is_short_story  \n0         0              0  \n1         0              0  \n2         0              0  \n3         0              0  \n4         0              0  \n\n[5 rows x 37 columns]\n"
     ]
    }
   ],
   "source": [
    "data = pd.read_excel('/Users/alex/Documents/ReadingInsights/library_export.xlsx')\n",
    "print(data.shape)\n",
    "print(data.dtypes)\n",
    "print(data.head())"
   ]
  },
  {
   "cell_type": "code",
   "execution_count": 15,
   "metadata": {},
   "outputs": [
    {
     "data": {
      "text/plain": [
       "['https://en.wikipedia.org/wiki/Epictetus',\n 'https://en.wikipedia.org/wiki/Paul_Krugman',\n 'https://en.wikipedia.org/wiki/Tom_Shroder',\n 'https://en.wikipedia.org/wiki/John_Steinbeck',\n 'https://en.wikipedia.org/wiki/Czes%C5%82aw_Mi%C5%82osz']"
      ]
     },
     "execution_count": 15,
     "metadata": {},
     "output_type": "execute_result"
    }
   ],
   "source": [
    "authors = data['author']\n",
    "author_url = {}\n",
    "try:\n",
    "    for author in set(authors):\n",
    "        author_url[author] = wikipedia.page(author).url\n",
    "except DisambiguationError as err:\n",
    "    print(err)\n",
    "    \n",
    "list(author_url.values())[:5]"
   ]
  },
  {
   "cell_type": "code",
   "execution_count": 16,
   "metadata": {},
   "outputs": [],
   "source": [
    "author_url['Jim Afremow'] = 'http://www.goldmedalmind.net/about-dr-jim/'\n",
    "author_url['Stefan Hildebrandt'] = 'http://worldcat.org/identities/lccn-n80054555/'\n",
    "author_url['Russell Wild'] = 'https://www.napfa.org/member/5511/3203'"
   ]
  },
  {
   "cell_type": "code",
   "execution_count": 13,
   "metadata": {
    "collapsed": true
   },
   "outputs": [
    {
     "ename": "WatsonApiException",
     "evalue": "Error: attempt to fetch failed: :closed, Code: 400",
     "traceback": [
      "\u001b[0;31m---------------------------------------------------------------------------\u001b[0m",
      "\u001b[0;31mWatsonApiException\u001b[0m                        Traceback (most recent call last)",
      "\u001b[0;32m<ipython-input-13-710e2d38a93b>\u001b[0m in \u001b[0;36m<module>\u001b[0;34m()\u001b[0m\n\u001b[1;32m      6\u001b[0m       features=Features(\n\u001b[1;32m      7\u001b[0m         concepts=ConceptsOptions(\n\u001b[0;32m----> 8\u001b[0;31m         limit=8)))\n\u001b[0m\u001b[1;32m      9\u001b[0m     \u001b[0mconcepts\u001b[0m\u001b[0;34m[\u001b[0m\u001b[0mauthor\u001b[0m\u001b[0;34m]\u001b[0m \u001b[0;34m=\u001b[0m \u001b[0;34m[\u001b[0m\u001b[0;34m]\u001b[0m\u001b[0;34m\u001b[0m\u001b[0m\n\u001b[1;32m     10\u001b[0m     \u001b[0;32mfor\u001b[0m \u001b[0mconcept\u001b[0m \u001b[0;32min\u001b[0m \u001b[0mresponse\u001b[0m\u001b[0;34m[\u001b[0m\u001b[0;34m'concepts'\u001b[0m\u001b[0;34m]\u001b[0m\u001b[0;34m:\u001b[0m\u001b[0;34m\u001b[0m\u001b[0m\n",
      "\u001b[0;32m~/anaconda3/lib/python3.6/site-packages/watson_developer_cloud/natural_language_understanding_v1.py\u001b[0m in \u001b[0;36manalyze\u001b[0;34m(self, features, text, html, url, clean, xpath, fallback_to_raw, return_analyzed_text, language, limit_text_characters)\u001b[0m\n\u001b[1;32m    172\u001b[0m         \u001b[0murl\u001b[0m \u001b[0;34m=\u001b[0m \u001b[0;34m'/v1/analyze'\u001b[0m\u001b[0;34m\u001b[0m\u001b[0m\n\u001b[1;32m    173\u001b[0m         response = self.request(\n\u001b[0;32m--> 174\u001b[0;31m             method='POST', url=url, params=params, json=data, accept_json=True)\n\u001b[0m\u001b[1;32m    175\u001b[0m         \u001b[0;32mreturn\u001b[0m \u001b[0mresponse\u001b[0m\u001b[0;34m\u001b[0m\u001b[0m\n\u001b[1;32m    176\u001b[0m \u001b[0;34m\u001b[0m\u001b[0m\n",
      "\u001b[0;32m~/anaconda3/lib/python3.6/site-packages/watson_developer_cloud/watson_service.py\u001b[0m in \u001b[0;36mrequest\u001b[0;34m(self, method, url, accept_json, headers, params, json, data, files, **kwargs)\u001b[0m\n\u001b[1;32m    413\u001b[0m             \u001b[0merror_info\u001b[0m \u001b[0;34m=\u001b[0m \u001b[0mself\u001b[0m\u001b[0;34m.\u001b[0m\u001b[0m_get_error_info\u001b[0m\u001b[0;34m(\u001b[0m\u001b[0mresponse\u001b[0m\u001b[0;34m)\u001b[0m\u001b[0;34m\u001b[0m\u001b[0m\n\u001b[1;32m    414\u001b[0m             raise WatsonApiException(response.status_code, error_message,\n\u001b[0;32m--> 415\u001b[0;31m                                      error_info)\n\u001b[0m",
      "\u001b[0;31mWatsonApiException\u001b[0m: Error: attempt to fetch failed: :closed, Code: 400"
     ],
     "output_type": "error"
    }
   ],
   "source": [
    "concepts = {}\n",
    "for author in author_url:\n",
    "    response = natural_language_understanding.analyze(\n",
    "      url=author_url[author],\n",
    "        language='en',\n",
    "      features=Features(\n",
    "        concepts=ConceptsOptions(\n",
    "        limit=8)))\n",
    "    concepts[author] = []\n",
    "    for concept in response['concepts']:\n",
    "        concepts[author].append(concept['text'])\n",
    "        "
   ]
  },
  {
   "cell_type": "code",
   "execution_count": 98,
   "metadata": {
    "collapsed": true
   },
   "outputs": [],
   "source": [
    "mixed_concepts = list(chain.from_iterable(concepts.values()))\n",
    "\n",
    "def find_similarities(arr):\n",
    "    simplified_concepts = []\n",
    "    \n",
    "    for first in arr:\n",
    "        for second in arr:\n",
    "            simplest = min([first, second], key=len)\n",
    "            if first is not second and fuzz.partial_ratio(first, second) > 85 and simplest not in simplified_concepts:\n",
    "                #print((first, second, simplest))\n",
    "                simplified_concepts.append(simplest)\n",
    "                \n",
    "    return simplified_concepts\n",
    "\n",
    "a = find_similarities(mixed_concepts)\n",
    "final_concepts = find_similarities(a)"
   ]
  },
  {
   "cell_type": "code",
   "execution_count": 10,
   "metadata": {},
   "outputs": [],
   "source": [
    "data_object = data[['title', 'author', 'finished', 'started']]\n",
    "data_influences = data[['inf_north_amer', 'inf_south_central_amer', 'inf_asia', 'inf_middle_east',\n",
    "                        'inf_west_europe', 'inf_east_europe', 'inf_africa', 'inf_oceania']]\n",
    "data_genres = data[['is_fiction', 'is_nonfiction', 'is_adventure', 'is_biography', 'is_drama',\n",
    "                    'is_expository', 'is_historical_ficition', 'is_memoir', 'is_philosophy',\n",
    "                    'is_poetry', 'is_political_science', 'is_realistic_fiction',\n",
    "                    'is_religion', 'is_science', 'is_sci_fi', 'is_short_story']]\n",
    "data_numeric = pd.concat([\n",
    "    data_influences,\n",
    "    data_genres,\n",
    "    data[['is_female', 'agg_rating', 'pages', 'pub_year',\n",
    "          'org_pub_year', 'duration']]\n",
    "], axis=1)\n",
    "target = data[['rating']]"
   ]
  },
  {
   "cell_type": "code",
   "execution_count": 11,
   "metadata": {},
   "outputs": [
    {
     "name": "stdout",
     "output_type": "stream",
     "text": [
      "Minimum\tMaximum\tMean\tMedian\tSum\n\ninf_north_amer\n0.00\t1.00\t0.57\t1.00\t29\n\ninf_south_central_amer\n0.00\t1.00\t0.02\t0.00\t1\n\ninf_asia\n0.00\t1.00\t0.12\t0.00\t6\n\ninf_middle_east\n0.00\t1.00\t0.04\t0.00\t2\n\ninf_west_europe\n0.00\t1.00\t0.33\t0.00\t17\n\ninf_east_europe\n0.00\t1.00\t0.06\t0.00\t3\n\ninf_africa\n0.00\t1.00\t0.06\t0.00\t3\n\ninf_oceania\n0.00\t1.00\t0.02\t0.00\t1\n\nis_fiction\n0.00\t1.00\t0.55\t1.00\t28\n\nis_nonfiction\n0.00\t1.00\t0.45\t0.00\t23\n\nis_adventure\n0.00\t1.00\t0.10\t0.00\t5\n\nis_biography\n0.00\t1.00\t0.02\t0.00\t1\n\nis_drama\n0.00\t1.00\t0.02\t0.00\t1\n\nis_expository\n0.00\t1.00\t0.20\t0.00\t10\n\nis_historical_ficition\n0.00\t1.00\t0.14\t0.00\t7\n\nis_memoir\n0.00\t1.00\t0.12\t0.00\t6\n\nis_philosophy\n0.00\t1.00\t0.20\t0.00\t10\n\nis_poetry\n0.00\t1.00\t0.08\t0.00\t4\n\nis_political_science\n0.00\t1.00\t0.06\t0.00\t3\n\nis_realistic_fiction\n0.00\t1.00\t0.20\t0.00\t10\n\nis_religion\n0.00\t1.00\t0.06\t0.00\t3\n\nis_science\n0.00\t1.00\t0.27\t0.00\t14\n\nis_sci_fi\n0.00\t1.00\t0.08\t0.00\t4\n\nis_short_story\n0.00\t1.00\t0.06\t0.00\t3\n\nis_female\n0.00\t1.00\t0.12\t0.00\t6\n\nagg_rating\n3.17\t4.50\t4.00\t4.00\t204.01999999999998\n\npages\n33.00\t854.00\t236.04\t218.00\t12038\n\npub_year\n1957.00\t2016.00\t2003.45\t2005.00\t102176\n\norg_pub_year\n-390.00\t2016.00\t1761.18\t1996.00\t89820\n\nduration\n0.00\t122.00\t17.80\t8.00\t908\n\nrating\n1.00\t5.00\t3.55\t4.00\t181\n\n"
     ]
    }
   ],
   "source": [
    "print('Minimum\\tMaximum\\tMean\\tMedian\\tSum\\n')\n",
    "\n",
    "for col in pd.concat([data_numeric, target], axis=1):\n",
    "    print('{}\\n{:.2f}\\t{:.2f}\\t{:.2f}\\t{:.2f}\\t{}\\n'.format(\n",
    "        col, \n",
    "        data[col].min(), \n",
    "        data[col].max(), \n",
    "        data[col].mean(), \n",
    "        data[col].median(), \n",
    "        data[col].sum()))"
   ]
  },
  {
   "cell_type": "code",
   "execution_count": 17,
   "metadata": {
    "collapsed": true
   },
   "outputs": [
    {
     "name": "stdout",
     "output_type": "stream",
     "text": [
      "12344\n(51, 30)\n"
     ]
    },
    {
     "data": {
      "image/png": "[encoded data removed]",
      "text/plain": [
       "<matplotlib.figure.Figure at 0x1a22517748>"
      ]
     },
     "metadata": {},
     "output_type": "display_data"
    },
    {
     "name": "stdout",
     "output_type": "stream",
     "text": [
      "float64\n56\n"
     ]
    }
   ],
   "source": [
    "print(sys.getsizeof(data_numeric))\n",
    "print(data_numeric.shape)\n",
    "\n",
    "data_numeric.fillna(0, inplace=True)\n",
    "\n",
    "plt.figure(figsize=(6,10))\n",
    "plt.spy(data_numeric)\n",
    "plt.show()\n",
    "\n",
    "data_numeric['org_pub_year'] -= min(data_numeric['org_pub_year']) - 1\n",
    "\n",
    "sparse_data_numeric = sparse.csr_matrix(data_numeric)\n",
    "\n",
    "print(sparse_data_numeric.dtype)\n",
    "print(sys.getsizeof(sparse_data_numeric))"
   ]
  },
  {
   "cell_type": "code",
   "execution_count": 18,
   "metadata": {},
   "outputs": [],
   "source": [
    "scaled_sparse_data_numeric = preprocessing.scale(sparse_data_numeric, with_mean=False)\n",
    "\n",
    "quantile_trans_sparse_data_numeric = preprocessing.quantile_transform(\n",
    "    sparse_data_numeric,\n",
    "    output_distribution='normal')\n",
    "\n",
    "normal_sparse_data_matrix = preprocessing.normalize(sparse_data_numeric)"
   ]
  },
  {
   "cell_type": "code",
   "execution_count": 19,
   "metadata": {},
   "outputs": [
    {
     "data": {
      "text/plain": [
       "[]"
      ]
     },
     "execution_count": 19,
     "metadata": {},
     "output_type": "execute_result"
    }
   ],
   "source": [
    "def find_correlation(df, thresh=0.9):\n",
    "    \"\"\"\n",
    "    Given a numeric pd.DataFrame, this will find highly correlated features,\n",
    "    and return a list of features to remove\n",
    "    params:\n",
    "    - df : pd.DataFrame\n",
    "    - thresh : correlation threshold, will remove one of pairs of features with\n",
    "               a correlation greater than this value\n",
    "               \n",
    "    Created by Scott Warchal\n",
    "    https://gist.github.com/Swarchal/881976176aaeb21e8e8df486903e99d6\n",
    "    \"\"\"\n",
    "    \n",
    "    corrMatrix = df.corr()\n",
    "    corrMatrix.loc[:,:] =  np.tril(corrMatrix, k=-1)\n",
    "\n",
    "    already_in = set()\n",
    "    result = []\n",
    "\n",
    "    for col in corrMatrix:\n",
    "        perfect_corr = corrMatrix[col][corrMatrix[col] > thresh].index.tolist()\n",
    "        if perfect_corr and col not in already_in:\n",
    "            already_in.update(set(perfect_corr))\n",
    "            perfect_corr.append(col)\n",
    "            result.append(perfect_corr)\n",
    "\n",
    "\n",
    "    select_nested = [f[1:] for f in result]\n",
    "    select_flat = [i for j in select_nested for i in j]\n",
    "    return select_flat\n",
    "\n",
    "find_correlation(data_numeric, 0.7)"
   ]
  },
  {
   "cell_type": "code",
   "execution_count": 21,
   "metadata": {},
   "outputs": [
    {
     "name": "stdout",
     "output_type": "stream",
     "text": [
      "[ 0.53695184  0.41893296  0.04307052]\n[ 0.03174465  0.24913326  0.15743499]\n[ 0.11343838  0.84707205  0.03839033]\n"
     ]
    },
    {
     "data": {
      "image/png": "[encoded data removed]",
      "text/plain": [
       "<matplotlib.figure.Figure at 0x1a22bae550>"
      ]
     },
     "metadata": {},
     "output_type": "display_data"
    }
   ],
   "source": [
    "# https://dziganto.github.io/Sparse-Matrices-For-Efficient-Machine-Learning/\n",
    "\n",
    "fig = plt.figure(figsize=(12,12))\n",
    "fig.suptitle(\"Dimensionality Reductions on Scales and QuantileTransforms\")\n",
    "\n",
    "components = 3\n",
    "\n",
    "\n",
    "plt.subplot(3, 2, 1)\n",
    "plt.title(\"Unscaled + TruncatedSVD\")\n",
    "\n",
    "tsvd_decomp = TruncatedSVD(n_components=components).fit(sparse_data_numeric)\n",
    "print(tsvd_decomp.explained_variance_ratio_)\n",
    "tsvd_decomp = tsvd_decomp.transform(sparse_data_numeric)\n",
    "\n",
    "a = tsvd_decomp[:,0]\n",
    "b = tsvd_decomp[:,1]\n",
    "sns.regplot(a,b, fit_reg=False)\n",
    "\n",
    "plt.subplot(3, 2, 2)\n",
    "plt.title(\"QuantileTrans + PCA\")\n",
    "\n",
    "pca_decomp = TruncatedSVD(n_components=components).fit(quantile_trans_sparse_data_numeric)\n",
    "print(pca_decomp.explained_variance_ratio_)\n",
    "pca_decomp = pca_decomp.transform(quantile_trans_sparse_data_numeric)\n",
    "\n",
    "a = pca_decomp[:,0]\n",
    "b = pca_decomp[:,1]\n",
    "sns.regplot(a,b, fit_reg=False)\n",
    "\n",
    "plt.subplot(3, 2, 3)\n",
    "plt.title(\"Normalized + TruncatedSVD\")\n",
    "\n",
    "norm_tsvd_decomp = TruncatedSVD(n_components=components).fit(normal_sparse_data_matrix)\n",
    "print(norm_tsvd_decomp.explained_variance_ratio_)\n",
    "norm_tsvd_decomp = norm_tsvd_decomp.transform(normal_sparse_data_matrix)\n",
    "\n",
    "a = norm_tsvd_decomp[:,0]\n",
    "b = norm_tsvd_decomp[:,1]\n",
    "sns.regplot(a,b, fit_reg=False)\n",
    "\n",
    "plt.subplot(3, 2, 4)\n",
    "plt.title(\"Normalized + KernelPCA\")\n",
    "\n",
    "norm_kpca_decomp = KernelPCA(n_components=components).fit_transform(normal_sparse_data_matrix)\n",
    "\n",
    "a = norm_kpca_decomp[:,0]\n",
    "b = norm_kpca_decomp[:,1]\n",
    "sns.regplot(a,b, fit_reg=False)\n",
    "\n",
    "plt.subplot(3, 2, 5)\n",
    "plt.title(\"Scaled + KernelPCA\")\n",
    "kpca_s_decomp = KernelPCA(n_components=components).fit_transform(scaled_sparse_data_numeric)\n",
    "\n",
    "a = kpca_s_decomp[:, 0]\n",
    "b = kpca_s_decomp[:, 1]\n",
    "sns.regplot(a,b,fit_reg=False)\n",
    "\n",
    "plt.subplot(3, 2, 6)\n",
    "plt.title(\"QuantileTrans + KernelPCA\")\n",
    "kpca_qt_decomp = KernelPCA(n_components=components).fit_transform(quantile_trans_sparse_data_numeric)\n",
    "\n",
    "a = kpca_qt_decomp[:, 0]\n",
    "b = kpca_qt_decomp[:, 1]\n",
    "sns.regplot(a,b,fit_reg=False)\n",
    "\n",
    "plt.show()\n"
   ]
  },
  {
   "cell_type": "code",
   "execution_count": 22,
   "metadata": {},
   "outputs": [],
   "source": [
    "sets = {\n",
    "    'Scaled_Sparse_Data': scaled_sparse_data_numeric, \n",
    "    'Scaled-TruncatedSVD': tsvd_decomp, \n",
    "    'Quantile_Transform-PCA': pca_decomp, \n",
    "    'Normalized-TruncatedSVD': norm_tsvd_decomp, \n",
    "    'Normalized-KernelPCA': norm_kpca_decomp, \n",
    "    'Scaled-KernelPCA': kpca_s_decomp, \n",
    "    'Quantile_Transform-KernelPCA': kpca_qt_decomp\n",
    "}\n"
   ]
  },
  {
   "cell_type": "code",
   "execution_count": 27,
   "metadata": {
    "collapsed": true
   },
   "outputs": [
    {
     "name": "stdout",
     "output_type": "stream",
     "text": [
      "searching\n\nsearch Scaled_Sparse_Data\nLogisticRegression done\n"
     ]
    },
    {
     "name": "stdout",
     "output_type": "stream",
     "text": [
      "RidgeClassifier done\n"
     ]
    },
    {
     "name": "stdout",
     "output_type": "stream",
     "text": [
      "SGDClassifier done\n"
     ]
    },
    {
     "name": "stdout",
     "output_type": "stream",
     "text": [
      "KNeighborsClassifier done\n"
     ]
    },
    {
     "name": "stdout",
     "output_type": "stream",
     "text": [
      "SVC done\n"
     ]
    },
    {
     "name": "stdout",
     "output_type": "stream",
     "text": [
      "RandomForestClassifier done\n"
     ]
    },
    {
     "name": "stdout",
     "output_type": "stream",
     "text": [
      "AdaBoostClassifier done\n"
     ]
    },
    {
     "name": "stdout",
     "output_type": "stream",
     "text": [
      "MLPClassifier done\n\nsearch Scaled-TruncatedSVD\nLogisticRegression done\nRidgeClassifier done\n"
     ]
    },
    {
     "name": "stdout",
     "output_type": "stream",
     "text": [
      "SGDClassifier done\nKNeighborsClassifier done\n"
     ]
    },
    {
     "name": "stdout",
     "output_type": "stream",
     "text": [
      "SVC done\n"
     ]
    },
    {
     "name": "stdout",
     "output_type": "stream",
     "text": [
      "RandomForestClassifier done\n"
     ]
    },
    {
     "name": "stdout",
     "output_type": "stream",
     "text": [
      "AdaBoostClassifier done\n"
     ]
    },
    {
     "name": "stdout",
     "output_type": "stream",
     "text": [
      "MLPClassifier done\n\nsearch Quantile_Transform-PCA\nLogisticRegression done\nRidgeClassifier done\n"
     ]
    },
    {
     "name": "stdout",
     "output_type": "stream",
     "text": [
      "SGDClassifier done\nKNeighborsClassifier done\n"
     ]
    },
    {
     "name": "stdout",
     "output_type": "stream",
     "text": [
      "SVC done\n"
     ]
    },
    {
     "name": "stdout",
     "output_type": "stream",
     "text": [
      "RandomForestClassifier done\n"
     ]
    },
    {
     "name": "stdout",
     "output_type": "stream",
     "text": [
      "AdaBoostClassifier done\n"
     ]
    },
    {
     "name": "stdout",
     "output_type": "stream",
     "text": [
      "MLPClassifier done\n\nsearch Normalized-TruncatedSVD\nLogisticRegression done\nRidgeClassifier done\n"
     ]
    },
    {
     "name": "stdout",
     "output_type": "stream",
     "text": [
      "SGDClassifier done\nKNeighborsClassifier done\n"
     ]
    },
    {
     "name": "stdout",
     "output_type": "stream",
     "text": [
      "SVC done\n"
     ]
    },
    {
     "name": "stdout",
     "output_type": "stream",
     "text": [
      "RandomForestClassifier done\n"
     ]
    },
    {
     "name": "stdout",
     "output_type": "stream",
     "text": [
      "AdaBoostClassifier done\n"
     ]
    },
    {
     "name": "stdout",
     "output_type": "stream",
     "text": [
      "MLPClassifier done\n\nsearch Normalized-KernelPCA\nLogisticRegression done\nRidgeClassifier done\n"
     ]
    },
    {
     "name": "stdout",
     "output_type": "stream",
     "text": [
      "SGDClassifier done\nKNeighborsClassifier done\n"
     ]
    },
    {
     "name": "stdout",
     "output_type": "stream",
     "text": [
      "SVC done\n"
     ]
    },
    {
     "name": "stdout",
     "output_type": "stream",
     "text": [
      "RandomForestClassifier done\n"
     ]
    },
    {
     "name": "stdout",
     "output_type": "stream",
     "text": [
      "AdaBoostClassifier done\n"
     ]
    },
    {
     "name": "stdout",
     "output_type": "stream",
     "text": [
      "MLPClassifier done\n\nsearch Scaled-KernelPCA\nLogisticRegression done\nRidgeClassifier done\n"
     ]
    },
    {
     "name": "stdout",
     "output_type": "stream",
     "text": [
      "SGDClassifier done\nKNeighborsClassifier done\n"
     ]
    },
    {
     "name": "stdout",
     "output_type": "stream",
     "text": [
      "SVC done\n"
     ]
    },
    {
     "name": "stdout",
     "output_type": "stream",
     "text": [
      "RandomForestClassifier done\n"
     ]
    },
    {
     "name": "stdout",
     "output_type": "stream",
     "text": [
      "AdaBoostClassifier done\n"
     ]
    },
    {
     "name": "stdout",
     "output_type": "stream",
     "text": [
      "MLPClassifier done\n\nsearch Quantile_Transform-KernelPCA\nLogisticRegression done\nRidgeClassifier done\n"
     ]
    },
    {
     "name": "stdout",
     "output_type": "stream",
     "text": [
      "SGDClassifier done\nKNeighborsClassifier done\n"
     ]
    },
    {
     "name": "stdout",
     "output_type": "stream",
     "text": [
      "SVC done\n"
     ]
    },
    {
     "name": "stdout",
     "output_type": "stream",
     "text": [
      "RandomForestClassifier done\n"
     ]
    },
    {
     "name": "stdout",
     "output_type": "stream",
     "text": [
      "AdaBoostClassifier done\n"
     ]
    },
    {
     "name": "stdout",
     "output_type": "stream",
     "text": [
      "MLPClassifier done\n"
     ]
    }
   ],
   "source": [
    "models = {\n",
    "    'LogisticRegression': LogisticRegression(),\n",
    "    'RidgeClassifier': RidgeClassifier(),\n",
    "    'SGDClassifier': SGDClassifier(),\n",
    "    'KNeighborsClassifier': KNeighborsClassifier(),\n",
    "    'SVC': SVC(),\n",
    "    'RandomForestClassifier': RandomForestClassifier(),\n",
    "    'AdaBoostClassifier': AdaBoostClassifier(),\n",
    "    'MLPClassifier': MLPClassifier()\n",
    "}\n",
    "params = {\n",
    "    'LogisticRegression': {\n",
    "        'C': [0.0001, 0.001, 0.01, 0.1, 0.5, 1.],\n",
    "        'penalty': ['l2', 'l1']\n",
    "    },\n",
    "    'RidgeClassifier': {\n",
    "        'alpha': [0.0001, 0.001, 0.01, 0.1, 1., 10., 100., 500., 1000.]\n",
    "    },\n",
    "    'SGDClassifier': {\n",
    "        'alpha': [0.0001, 0.001, 0.01, 0.1, 1., 10., 100.],\n",
    "        'max_iter': [500, 1000, 2500],\n",
    "        'loss': ['hinge', 'squared_hinge'],\n",
    "        'penalty': ['l2', 'l1']\n",
    "    },\n",
    "    'KNeighborsClassifier': {\n",
    "        'n_neighbors': [2, 3, 4, 6, 8, 10, 12, 14],\n",
    "        'leaf_size': [2, 3, 6, 10, 20, 30]\n",
    "    },\n",
    "    'SVC': {\n",
    "        'C': [0.000000001, 0.000001, 0.00001, 0.001, 0.01, 0.1, 0.5, 1., 2., 10.],\n",
    "        'kernel': ['linear', 'rbf'],\n",
    "        'gamma': ['auto', 0.1, 1., 2., 10.]\n",
    "    },\n",
    "    'RandomForestClassifier': {\n",
    "        'max_features': ['auto', 'log2', 0.25, 0.5, 0.75, 1],\n",
    "        'n_estimators': [1, 3, 5, 7, 10, 25, 50, 75, 100],\n",
    "        'max_depth': [3, 5, 7, 10, 20, None]\n",
    "    },\n",
    "    'AdaBoostClassifier': {\n",
    "        'n_estimators': [1, 3, 5, 7, 10, 25, 50, 75, 100]\n",
    "    },\n",
    "    'MLPClassifier': {\n",
    "        'activation': ['relu', 'logistic'],\n",
    "        'learning_rate_init': [1e-6, 1e-5, 1e-4],\n",
    "        'max_iter': [2000, 3000, 4000],\n",
    "        'solver': ['lbfgs'],\n",
    "        'hidden_layer_sizes': [(25,),(23,),(21,),(19,),(17,),(15,),(13,),(11,),(9,),(7,)]\n",
    "    }\n",
    "}\n"
   ]
  },
  {
   "cell_type": "code",
   "execution_count": 32,
   "metadata": {
    "collapsed": true
   },
   "outputs": [
    {
     "name": "stdout",
     "output_type": "stream",
     "text": [
      "searching\n\nsearch Scaled_Sparse_Data\nLogisticRegression done\n"
     ]
    },
    {
     "name": "stdout",
     "output_type": "stream",
     "text": [
      "RidgeClassifier done\n"
     ]
    },
    {
     "name": "stdout",
     "output_type": "stream",
     "text": [
      "SGDClassifier done\n"
     ]
    },
    {
     "name": "stdout",
     "output_type": "stream",
     "text": [
      "KNeighborsClassifier done\n"
     ]
    },
    {
     "name": "stdout",
     "output_type": "stream",
     "text": [
      "SVC done\n"
     ]
    },
    {
     "name": "stdout",
     "output_type": "stream",
     "text": [
      "RandomForestClassifier done\n"
     ]
    },
    {
     "name": "stdout",
     "output_type": "stream",
     "text": [
      "AdaBoostClassifier done\n"
     ]
    },
    {
     "name": "stdout",
     "output_type": "stream",
     "text": [
      "MLPClassifier done\n\nsearch Scaled-TruncatedSVD\nLogisticRegression done\nRidgeClassifier done\n"
     ]
    },
    {
     "name": "stdout",
     "output_type": "stream",
     "text": [
      "SGDClassifier done\nKNeighborsClassifier done\n"
     ]
    },
    {
     "name": "stdout",
     "output_type": "stream",
     "text": [
      "SVC done\n"
     ]
    },
    {
     "name": "stdout",
     "output_type": "stream",
     "text": [
      "RandomForestClassifier done\n"
     ]
    },
    {
     "name": "stdout",
     "output_type": "stream",
     "text": [
      "AdaBoostClassifier done\n"
     ]
    },
    {
     "name": "stdout",
     "output_type": "stream",
     "text": [
      "MLPClassifier done\n\nsearch Quantile_Transform-PCA\nLogisticRegression done\nRidgeClassifier done\n"
     ]
    },
    {
     "name": "stdout",
     "output_type": "stream",
     "text": [
      "SGDClassifier done\nKNeighborsClassifier done\n"
     ]
    },
    {
     "name": "stdout",
     "output_type": "stream",
     "text": [
      "SVC done\n"
     ]
    },
    {
     "name": "stdout",
     "output_type": "stream",
     "text": [
      "RandomForestClassifier done\n"
     ]
    },
    {
     "name": "stdout",
     "output_type": "stream",
     "text": [
      "AdaBoostClassifier done\n"
     ]
    },
    {
     "name": "stdout",
     "output_type": "stream",
     "text": [
      "MLPClassifier done\n\nsearch Normalized-TruncatedSVD\nLogisticRegression done\nRidgeClassifier done\n"
     ]
    },
    {
     "name": "stdout",
     "output_type": "stream",
     "text": [
      "SGDClassifier done\nKNeighborsClassifier done\n"
     ]
    },
    {
     "name": "stdout",
     "output_type": "stream",
     "text": [
      "SVC done\n"
     ]
    },
    {
     "name": "stdout",
     "output_type": "stream",
     "text": [
      "RandomForestClassifier done\n"
     ]
    },
    {
     "name": "stdout",
     "output_type": "stream",
     "text": [
      "AdaBoostClassifier done\n"
     ]
    },
    {
     "name": "stdout",
     "output_type": "stream",
     "text": [
      "MLPClassifier done\n\nsearch Normalized-KernelPCA\nLogisticRegression done\nRidgeClassifier done\n"
     ]
    },
    {
     "name": "stdout",
     "output_type": "stream",
     "text": [
      "SGDClassifier done\nKNeighborsClassifier done\n"
     ]
    },
    {
     "name": "stdout",
     "output_type": "stream",
     "text": [
      "SVC done\n"
     ]
    },
    {
     "name": "stdout",
     "output_type": "stream",
     "text": [
      "RandomForestClassifier done\n"
     ]
    },
    {
     "name": "stdout",
     "output_type": "stream",
     "text": [
      "AdaBoostClassifier done\n"
     ]
    },
    {
     "name": "stdout",
     "output_type": "stream",
     "text": [
      "MLPClassifier done\n\nsearch Scaled-KernelPCA\nLogisticRegression done\nRidgeClassifier done\n"
     ]
    },
    {
     "name": "stdout",
     "output_type": "stream",
     "text": [
      "SGDClassifier done\nKNeighborsClassifier done\n"
     ]
    },
    {
     "name": "stdout",
     "output_type": "stream",
     "text": [
      "SVC done\n"
     ]
    },
    {
     "name": "stdout",
     "output_type": "stream",
     "text": [
      "RandomForestClassifier done\n"
     ]
    },
    {
     "name": "stdout",
     "output_type": "stream",
     "text": [
      "AdaBoostClassifier done\n"
     ]
    },
    {
     "name": "stdout",
     "output_type": "stream",
     "text": [
      "MLPClassifier done\n\nsearch Quantile_Transform-KernelPCA\nLogisticRegression done\nRidgeClassifier done\n"
     ]
    },
    {
     "name": "stdout",
     "output_type": "stream",
     "text": [
      "SGDClassifier done\nKNeighborsClassifier done\n"
     ]
    },
    {
     "name": "stdout",
     "output_type": "stream",
     "text": [
      "SVC done\n"
     ]
    },
    {
     "name": "stdout",
     "output_type": "stream",
     "text": [
      "RandomForestClassifier done\n"
     ]
    },
    {
     "name": "stdout",
     "output_type": "stream",
     "text": [
      "AdaBoostClassifier done\n"
     ]
    },
    {
     "name": "stdout",
     "output_type": "stream",
     "text": [
      "MLPClassifier done\n"
     ]
    }
   ],
   "source": [
    "searches = {}\n",
    "\n",
    "print('searching')\n",
    "\n",
    "for set in sets:\n",
    "    \n",
    "    X = sets[set]\n",
    "    y = np.array(target).ravel()\n",
    "    \n",
    "    X_train, X_test, y_train, y_test = train_test_split(X, y, test_size=0.2, stratify=y)\n",
    "    \n",
    "    print('\\nsearch ' + set)\n",
    "    \n",
    "    for key in models.keys():\n",
    "        \n",
    "        gs = GridSearchCV(models[key], params[key], cv=2, return_train_score=True)\n",
    "        gs.fit(X_train, y_train)\n",
    "        searches[set + '__' + key] = gs\n",
    "        \n",
    "        print(key + ' done')\n",
    "        \n"
   ]
  },
  {
   "cell_type": "code",
   "execution_count": 53,
   "metadata": {
    "collapsed": false
   },
   "outputs": [
    {
     "name": "stdout",
     "output_type": "stream",
     "text": [
      "Quantile_Transform-KernelPCA__SVC\n[4 4 3 5 2 3 5 3 4 3 4]\n[3 4 3 4 3 3 4 4 3 3 4]\n"
     ]
    },
    {
     "data": {
      "text/plain": [
       "<matplotlib.axes._subplots.AxesSubplot at 0x1a24aeaa20>"
      ]
     },
     "execution_count": 53,
     "metadata": {},
     "output_type": "execute_result"
    },
    {
     "data": {
      "image/png": "[encoded data removed]",
      "text/plain": [
       "<matplotlib.figure.Figure at 0x1a24877b70>"
      ]
     },
     "metadata": {},
     "output_type": "display_data"
    }
   ],
   "source": [
    "def mean_squared_classifier(y_true, y_pred):\n",
    "    sqr_sum = 0\n",
    "    for y0, y1 in zip(y_pred, y_true):\n",
    "        y0 = (y0 - 1) / 4\n",
    "        y1 = (y1 - 1) / 4\n",
    "\n",
    "        sqr_sum += pow(y1 - y0, 2)\n",
    "\n",
    "    return 1 - sqr_sum / len(y_true)\n",
    "\n",
    "scorer = make_scorer(mean_squared_classifier, greater_is_better=True)\n",
    "\n",
    "results = pd.DataFrame(0, index=models, columns=sets.keys())\n",
    "\n",
    "for search in searches:\n",
    "\n",
    "    set, model = search.split('__')\n",
    "\n",
    "    clf = models[model]\n",
    "    clf.set_params(**searches[search].best_params_)\n",
    "    clf.fit(X_train, y_train)\n",
    "\n",
    "    if search in 'Quantile_Transform-KernelPCA__SVC':\n",
    "        print('{}\\n{}\\n{}'.format(search, y_test, clf.predict(X_test)))\n",
    "\n",
    "    results.loc[model, set] += scorer(clf, X_test, y_test)\n",
    "\n",
    "plt.figure(figsize=(10, 7))\n",
    "plt.suptitle('Classifier by Transformation')\n",
    "sns.heatmap(results, annot=True, fmt=\"0.3f\", cmap='RdYlGn')\n"
   ]
  },
  {
   "cell_type": "code",
   "execution_count": 43,
   "metadata": {
    "collapsed": false
   },
   "outputs": [
    {
     "data": {
      "text/plain": [
       "{'C': 1e-09, 'gamma': 0.1, 'kernel': 'rbf'}"
      ]
     },
     "execution_count": 43,
     "metadata": {},
     "output_type": "execute_result"
    }
   ],
   "source": [
    "searches['Quantile_Transform-KernelPCA__SVC'].best_params_"
   ]
  },
  {
   "cell_type": "code",
   "execution_count": 54,
   "metadata": {},
   "outputs": [
    {
     "name": "stdout",
     "output_type": "stream",
     "text": [
      "Quantile_Transform-KernelPCA__SVC\n0.943\n\n\n"
     ]
    }
   ],
   "source": [
    "y = np.array(target).ravel()\n",
    "\n",
    "clf = SVC(C=1e-09, gamma=0.1, kernel='rbf')\n",
    "\n",
    "n = 1\n",
    "\n",
    "scores = np.zeros((n,))\n",
    "\n",
    "for j in range(n):\n",
    "    a, b, c, d = train_test_split(kpca_qt_decomp, y, test_size=0.2, stratify=y)\n",
    "\n",
    "    clf.fit(a, c)\n",
    "    scores[j] = scorer(clf, b, d)\n",
    "\n",
    "print('{}\\n{:.3f}\\n\\n'.format('Quantile_Transform-KernelPCA__SVC', scores.mean()))\n"
   ]
  },
  {
   "cell_type": "code",
   "execution_count": 31,
   "metadata": {},
   "outputs": [],
   "source": []
  },
  {
   "cell_type": "code",
   "execution_count": null,
   "metadata": {},
   "outputs": [],
   "source": []
  }
 ],
 "metadata": {
  "kernelspec": {
   "display_name": "Python 2",
   "language": "python",
   "name": "python2"
  },
  "language_info": {
   "codemirror_mode": {
    "name": "ipython",
    "version": 2
   },
   "file_extension": ".py",
   "mimetype": "text/x-python",
   "name": "python",
   "nbconvert_exporter": "python",
   "pygments_lexer": "ipython2",
   "version": "2.7.6"
  }
 },
 "nbformat": 4,
 "nbformat_minor": 0
}
