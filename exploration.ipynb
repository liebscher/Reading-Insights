{
 "cells": [
  {
   "cell_type": "markdown",
   "metadata": {},
   "source": [
    "# Reading Insights\n",
    "\n",
    "## A deeper look into my reading behavior and habits\n",
    "\n",
    "January 2018\n",
    "\n",
    "This project scratches the surface of an analysis of my past reading behaviors and habits. Please refer to the overview notebook for complete information about my objectives and motivations. In brief, through this project I wish to (1) improve my understanding of data analysis and data analysis methodologies, (2) quantify and objectify the materials I like to read, and (3) create a model capable of predicting the degree to which I may enjoy a certain book.\n",
    "\n",
    "It's important to me that this document be readable by the average college-educated person. My goal is to include the technicalities of the analysis but preserve the accessibility of the project.\n",
    "\n",
    "## Summary\n",
    "\n",
    "1) I began this project with some **data preparation** by cleaning up my book collections on Goodreads.com (fixing publication years, page numbers, etc.). I first separated books into \"shelves\" that represented genres of various specificities. I gave each book the best start and finish date I could. I re-rated some of my older books to represent how I feel about them now. I manually added features (columns in my spreadsheet) which are prefixed with \"inf_\" and these will be explained later.\n",
    "\n",
    "2) After exporting my Goodreads data, I pulled it into a Pandas dataframe (simply a 2-dimensional matrix, with rows and labeled columns). From here, descriptive statistics could be extracted from the data set easily. **Data visualization** will be expanded and is important for those unfamiliar with the data set and its characteristics. TODO: Develop coverage of inferential statistics.\n",
    "\n",
    "3) I am currently implementing an entity keyword extraction (explained later, but this means the computer is searching for words/phrases that are highly relevant to the author) method using IBM's Watson Developer Cloud to expand the feature range (the number of characteristics/columns of each book). A large amount of noise is a side effect of this and I am working to minimize this, thus I have not implemented this in the final problem yet.\n",
    "\n",
    "4) I **preprocess** my data set and transform it into a compressed sparse row matrix due to the number of binary features (in other words, I transform my data set into a format that is faster and more efficient for the computer to manipulate). I attempt several scaling and normalization techniques (for example, tranforming the original publication year from a range of -390 to 2016 to something much smaller with a mean of say 0). I then compare and visualize these transformations.\n",
    "\n",
    "5) The final portion of this project now begins. The idea behind the next few steps is to find a classification algorithm using scikit-learn that can best (without overfitting or generalizing) classify a book into a 1-5 star rating. I find this classifier by searching over multiple algorithms with multiple data tranformations and multiple paramters for each classifier (parameters tune how the algorithm behaves).\n",
    "\n",
    "6) I compare the results of this GridSearch, and those results are discussed below."
   ]
  },
  {
   "cell_type": "markdown",
   "metadata": {},
   "source": [
    "## Analysis\n",
    "\n",
    "Import the required libraries (these are other pieces of code I did not write that my project relies on)."
   ]
  },
  {
   "cell_type": "code",
   "execution_count": 1,
   "metadata": {
    "collapsed": true
   },
   "outputs": [],
   "source": [
    "%matplotlib inline\n",
    "import pandas as pd\n",
    "import numpy as np\n",
    "import sys\n",
    "\n",
    "from scipy import sparse\n",
    "from scipy.stats import stats\n",
    "\n",
    "\n",
    "import wikipedia\n",
    "from wikipedia import DisambiguationError\n",
    "\n",
    "from watson_developer_cloud import NaturalLanguageUnderstandingV1\n",
    "from watson_developer_cloud.natural_language_understanding_v1 import Features, ConceptsOptions\n",
    "\n",
    "import matplotlib.pyplot as plt\n",
    "import seaborn as sns\n",
    "\n",
    "from itertools import chain\n",
    "\n",
    "from fuzzywuzzy import fuzz\n",
    "\n",
    "from sklearn import preprocessing\n",
    "from sklearn.decomposition import KernelPCA, TruncatedSVD\n",
    "from sklearn.model_selection import train_test_split\n",
    "from sklearn.model_selection import GridSearchCV\n",
    "from sklearn.linear_model import LogisticRegression, RidgeClassifier, SGDClassifier\n",
    "from sklearn.svm import SVC\n",
    "from sklearn.neighbors import KNeighborsClassifier\n",
    "from sklearn.ensemble import RandomForestClassifier, AdaBoostClassifier\n",
    "from sklearn.neural_network import MLPClassifier\n",
    "from sklearn.metrics import make_scorer"
   ]
  },
  {
   "cell_type": "markdown",
   "metadata": {},
   "source": [
    "Set the style for future visualizations and charts."
   ]
  },
  {
   "cell_type": "code",
   "execution_count": 2,
   "metadata": {},
   "outputs": [],
   "source": [
    "sns.set_style('darkgrid')"
   ]
  },
  {
   "cell_type": "markdown",
   "metadata": {},
   "source": [
    "Authenticate my code to use IBM's Developer Cloud API."
   ]
  },
  {
   "cell_type": "code",
   "execution_count": 3,
   "metadata": {},
   "outputs": [],
   "source": [
    "ibm_creds = {\n",
    "  \"url\": \"https://gateway.watsonplatform.net/natural-language-understanding/api\",\n",
    "  \"username\": \"bb7a01e4-be21-44f1-83a3-2c316cf57d73\",\n",
    "  \"password\": \"\"\n",
    "}\n",
    "natural_language_understanding = NaturalLanguageUnderstandingV1(\n",
    "  username=ibm_creds['username'],\n",
    "  password=ibm_creds['password'],\n",
    "  version='2017-02-27')"
   ]
  },
  {
   "cell_type": "markdown",
   "metadata": {},
   "source": [
    "Import my Excel spreadsheet that contains my Goodreads data.\n",
    "\n",
    "I have 37 characteristics for each of my 51 books.\n",
    "\n",
    "Features (columns) that are prefixed with `inf_` denote a binary (0 for false, 1 for true) characteristic which represents the author's major geographic and cultural influence. For example, an author born and raised in America would be tagged with `inf_north_amer1`. An author raised in America, but with, say Indian parents, whose writing is influenced by Indian culture would be tagged as `inf_north_amer1` and `inf_asia`.\n",
    "\n",
    "`rating` is my rating of the book, 1-5. `agg_rating` is the average aggregate rating on Goodreads. `duration` is in days. Features prefixed by `is_` denote the genre."
   ]
  },
  {
   "cell_type": "code",
   "execution_count": 4,
   "metadata": {},
   "outputs": [
    {
     "name": "stdout",
     "output_type": "stream",
     "text": [
      "(51, 37)\n",
      "book_id                            int64\n",
      "title                             object\n",
      "author                            object\n",
      "inf_north_amer                     int64\n",
      "inf_south_central_amer             int64\n",
      "inf_asia                           int64\n",
      "inf_middle_east                    int64\n",
      "inf_west_europe                    int64\n",
      "inf_east_europe                    int64\n",
      "inf_africa                         int64\n",
      "inf_oceania                        int64\n",
      "is_female                          int64\n",
      "isbn13                           float64\n",
      "rating                             int64\n",
      "agg_rating                       float64\n",
      "pages                              int64\n",
      "pub_year                           int64\n",
      "org_pub_year                       int64\n",
      "finished                  datetime64[ns]\n",
      "started                   datetime64[ns]\n",
      "duration                           int64\n",
      "is_fiction                         int64\n",
      "is_nonfiction                      int64\n",
      "is_adventure                       int64\n",
      "is_biography                       int64\n",
      "is_drama                           int64\n",
      "is_expository                      int64\n",
      "is_historical_ficition             int64\n",
      "is_memoir                          int64\n",
      "is_philosophy                      int64\n",
      "is_poetry                          int64\n",
      "is_political_science               int64\n",
      "is_realistic_fiction               int64\n",
      "is_religion                        int64\n",
      "is_science                         int64\n",
      "is_sci_fi                          int64\n",
      "is_short_story                     int64\n",
      "dtype: object\n",
      "    book_id                                              title  \\\n",
      "0   2280676         A Concise Introduction To Tibetan Buddhism   \n",
      "1  20821131     Acid Test: LSD, Ecstasy, and the Power to Heal   \n",
      "2  18143977                        All the Light We Cannot See   \n",
      "3     73945                                            Apology   \n",
      "4  20696006  Being Mortal: Medicine and What Matters in the...   \n",
      "\n",
      "                   author  inf_north_amer  inf_south_central_amer  inf_asia  \\\n",
      "0  John Powers (academic)               1                       0         1   \n",
      "1             Tom Shroder               1                       0         0   \n",
      "2           Anthony Doerr               1                       0         0   \n",
      "3                   Plato               0                       0         0   \n",
      "4            Atul Gawande               1                       0         1   \n",
      "\n",
      "   inf_middle_east  inf_west_europe  inf_east_europe  inf_africa  \\\n",
      "0                0                0                0           0   \n",
      "1                0                0                0           0   \n",
      "2                0                0                0           0   \n",
      "3                0                1                0           0   \n",
      "4                0                0                0           0   \n",
      "\n",
      "       ...        is_historical_ficition  is_memoir  is_philosophy  is_poetry  \\\n",
      "0      ...                             0          0              0          0   \n",
      "1      ...                             0          0              0          0   \n",
      "2      ...                             1          0              0          0   \n",
      "3      ...                             0          0              1          0   \n",
      "4      ...                             0          0              0          0   \n",
      "\n",
      "   is_political_science  is_realistic_fiction  is_religion  is_science  \\\n",
      "0                     0                     0            1           0   \n",
      "1                     0                     0            0           1   \n",
      "2                     0                     0            0           0   \n",
      "3                     0                     0            0           0   \n",
      "4                     0                     0            0           1   \n",
      "\n",
      "  is_sci_fi is_short_story  \n",
      "0         0              0  \n",
      "1         0              0  \n",
      "2         0              0  \n",
      "3         0              0  \n",
      "4         0              0  \n",
      "\n",
      "[5 rows x 37 columns]\n"
     ]
    }
   ],
   "source": [
    "data = pd.read_excel('/Users/alex/Documents/ReadingInsights/library_export.xlsx')\n",
    "print(data.shape)\n",
    "print(data.dtypes)\n",
    "print(data.head())"
   ]
  },
  {
   "cell_type": "markdown",
   "metadata": {},
   "source": [
    "**Begin: Entity Keyword Extraction, a work in-progress not implemented in final problem**\n",
    "\n",
    "I iterate over each unique author and extract the url for their Wikipedia page."
   ]
  },
  {
   "cell_type": "code",
   "execution_count": 15,
   "metadata": {},
   "outputs": [
    {
     "data": {
      "text/plain": [
       "['https://en.wikipedia.org/wiki/Epictetus',\n",
       " 'https://en.wikipedia.org/wiki/Paul_Krugman',\n",
       " 'https://en.wikipedia.org/wiki/Tom_Shroder',\n",
       " 'https://en.wikipedia.org/wiki/John_Steinbeck',\n",
       " 'https://en.wikipedia.org/wiki/Czes%C5%82aw_Mi%C5%82osz']"
      ]
     },
     "execution_count": 15,
     "metadata": {},
     "output_type": "execute_result"
    }
   ],
   "source": [
    "authors = data['author']\n",
    "author_url = {}\n",
    "try:\n",
    "    for author in set(authors):\n",
    "        author_url[author] = wikipedia.page(author).url\n",
    "except DisambiguationError as err:\n",
    "    print(err)\n",
    "    \n",
    "list(author_url.values())[:5]"
   ]
  },
  {
   "cell_type": "markdown",
   "metadata": {},
   "source": [
    "Manually adjust some bad results. This noise must be automatically adjusted for in a final implementation."
   ]
  },
  {
   "cell_type": "code",
   "execution_count": 16,
   "metadata": {},
   "outputs": [],
   "source": [
    "author_url['Jim Afremow'] = 'http://www.goldmedalmind.net/about-dr-jim/'\n",
    "author_url['Stefan Hildebrandt'] = 'http://worldcat.org/identities/lccn-n80054555/'\n",
    "author_url['Russell Wild'] = 'https://www.napfa.org/member/5511/3203'"
   ]
  },
  {
   "cell_type": "markdown",
   "metadata": {},
   "source": [
    "For each author's Wikipedia page, extract 8 entity keywords."
   ]
  },
  {
   "cell_type": "code",
   "execution_count": 13,
   "metadata": {},
   "outputs": [
    {
     "ename": "WatsonApiException",
     "evalue": "Error: attempt to fetch failed: :closed, Code: 400",
     "traceback": [
      "\u001b[0;31m---------------------------------------------------------------------------\u001b[0m",
      "\u001b[0;31mWatsonApiException\u001b[0m                        Traceback (most recent call last)",
      "\u001b[0;32m<ipython-input-13-710e2d38a93b>\u001b[0m in \u001b[0;36m<module>\u001b[0;34m()\u001b[0m\n\u001b[1;32m      6\u001b[0m       features=Features(\n\u001b[1;32m      7\u001b[0m         concepts=ConceptsOptions(\n\u001b[0;32m----> 8\u001b[0;31m         limit=8)))\n\u001b[0m\u001b[1;32m      9\u001b[0m     \u001b[0mconcepts\u001b[0m\u001b[0;34m[\u001b[0m\u001b[0mauthor\u001b[0m\u001b[0;34m]\u001b[0m \u001b[0;34m=\u001b[0m \u001b[0;34m[\u001b[0m\u001b[0;34m]\u001b[0m\u001b[0;34m\u001b[0m\u001b[0m\n\u001b[1;32m     10\u001b[0m     \u001b[0;32mfor\u001b[0m \u001b[0mconcept\u001b[0m \u001b[0;32min\u001b[0m \u001b[0mresponse\u001b[0m\u001b[0;34m[\u001b[0m\u001b[0;34m'concepts'\u001b[0m\u001b[0;34m]\u001b[0m\u001b[0;34m:\u001b[0m\u001b[0;34m\u001b[0m\u001b[0m\n",
      "\u001b[0;32m~/anaconda3/lib/python3.6/site-packages/watson_developer_cloud/natural_language_understanding_v1.py\u001b[0m in \u001b[0;36manalyze\u001b[0;34m(self, features, text, html, url, clean, xpath, fallback_to_raw, return_analyzed_text, language, limit_text_characters)\u001b[0m\n\u001b[1;32m    172\u001b[0m         \u001b[0murl\u001b[0m \u001b[0;34m=\u001b[0m \u001b[0;34m'/v1/analyze'\u001b[0m\u001b[0;34m\u001b[0m\u001b[0m\n\u001b[1;32m    173\u001b[0m         response = self.request(\n\u001b[0;32m--> 174\u001b[0;31m             method='POST', url=url, params=params, json=data, accept_json=True)\n\u001b[0m\u001b[1;32m    175\u001b[0m         \u001b[0;32mreturn\u001b[0m \u001b[0mresponse\u001b[0m\u001b[0;34m\u001b[0m\u001b[0m\n\u001b[1;32m    176\u001b[0m \u001b[0;34m\u001b[0m\u001b[0m\n",
      "\u001b[0;32m~/anaconda3/lib/python3.6/site-packages/watson_developer_cloud/watson_service.py\u001b[0m in \u001b[0;36mrequest\u001b[0;34m(self, method, url, accept_json, headers, params, json, data, files, **kwargs)\u001b[0m\n\u001b[1;32m    413\u001b[0m             \u001b[0merror_info\u001b[0m \u001b[0;34m=\u001b[0m \u001b[0mself\u001b[0m\u001b[0;34m.\u001b[0m\u001b[0m_get_error_info\u001b[0m\u001b[0;34m(\u001b[0m\u001b[0mresponse\u001b[0m\u001b[0;34m)\u001b[0m\u001b[0;34m\u001b[0m\u001b[0m\n\u001b[1;32m    414\u001b[0m             raise WatsonApiException(response.status_code, error_message,\n\u001b[0;32m--> 415\u001b[0;31m                                      error_info)\n\u001b[0m",
      "\u001b[0;31mWatsonApiException\u001b[0m: Error: attempt to fetch failed: :closed, Code: 400"
     ],
     "output_type": "error"
    }
   ],
   "source": [
    "concepts = {}\n",
    "for author in author_url:\n",
    "    response = natural_language_understanding.analyze(\n",
    "      url=author_url[author],\n",
    "        language='en',\n",
    "      features=Features(\n",
    "        concepts=ConceptsOptions(\n",
    "        limit=8)))\n",
    "    concepts[author] = []\n",
    "    for concept in response['concepts']:\n",
    "        concepts[author].append(concept['text'])\n",
    "        "
   ]
  },
  {
   "cell_type": "markdown",
   "metadata": {},
   "source": [
    "Simplify the entity list to keep only significant and non-unique entries."
   ]
  },
  {
   "cell_type": "code",
   "execution_count": 98,
   "metadata": {
    "collapsed": true
   },
   "outputs": [],
   "source": [
    "mixed_concepts = list(chain.from_iterable(concepts.values()))\n",
    "\n",
    "def find_similarities(arr):\n",
    "    simplified_concepts = []\n",
    "    \n",
    "    for first in arr:\n",
    "        for second in arr:\n",
    "            simplest = min([first, second], key=len)\n",
    "            if first is not second and fuzz.partial_ratio(first, second) > 85 and simplest not in simplified_concepts:\n",
    "                #print((first, second, simplest))\n",
    "                simplified_concepts.append(simplest)\n",
    "                \n",
    "    return simplified_concepts\n",
    "\n",
    "a = find_similarities(mixed_concepts)\n",
    "final_concepts = find_similarities(a)"
   ]
  },
  {
   "cell_type": "markdown",
   "metadata": {},
   "source": [
    "**End**\n",
    "\n",
    "Separate data set into distinct subsets which can be usefully manipulated. Our algorithms only accept numeric data, so I remove the text type columns."
   ]
  },
  {
   "cell_type": "code",
   "execution_count": 10,
   "metadata": {},
   "outputs": [],
   "source": [
    "data_object = data[['title', 'author', 'finished', 'started']]\n",
    "data_influences = data[['inf_north_amer', 'inf_south_central_amer', 'inf_asia', 'inf_middle_east',\n",
    "                        'inf_west_europe', 'inf_east_europe', 'inf_africa', 'inf_oceania']]\n",
    "data_genres = data[['is_fiction', 'is_nonfiction', 'is_adventure', 'is_biography', 'is_drama',\n",
    "                    'is_expository', 'is_historical_ficition', 'is_memoir', 'is_philosophy',\n",
    "                    'is_poetry', 'is_political_science', 'is_realistic_fiction',\n",
    "                    'is_religion', 'is_science', 'is_sci_fi', 'is_short_story']]\n",
    "data_numeric = pd.concat([\n",
    "    data_influences,\n",
    "    data_genres,\n",
    "    data[['is_female', 'agg_rating', 'pages', 'pub_year',\n",
    "          'org_pub_year', 'duration']]\n",
    "], axis=1)\n",
    "target = data[['rating']]"
   ]
  },
  {
   "cell_type": "markdown",
   "metadata": {},
   "source": [
    "Describe each column with basic measures of central tendency, dispersion, and a sum. Some descriptors are useless for certain features.\n",
    "\n",
    "57% of authors I read are influenced by North American culture, with a low at only 2% from Oceanic culture (Australia). 55% of my books are fiction, 27% are labeled as science.\n",
    "\n",
    "12% of my authors are female, which only strengthens the assumptions that I could diversify my authors more.\n",
    "\n",
    "I rate the books I've read about half a star lower than what other Goodreads users rate the same books (4.00 - 3.55). On average, I take 18 days to finish a book, which on average is 236 pages. More than half of the books I read were originally published before 1996."
   ]
  },
  {
   "cell_type": "code",
   "execution_count": 11,
   "metadata": {},
   "outputs": [
    {
     "name": "stdout",
     "output_type": "stream",
     "text": [
      "Minimum\tMaximum\tMean\tMedian\tSum\n",
      "\n",
      "inf_north_amer\n",
      "0.00\t1.00\t0.57\t1.00\t29\n",
      "\n",
      "inf_south_central_amer\n",
      "0.00\t1.00\t0.02\t0.00\t1\n",
      "\n",
      "inf_asia\n",
      "0.00\t1.00\t0.12\t0.00\t6\n",
      "\n",
      "inf_middle_east\n",
      "0.00\t1.00\t0.04\t0.00\t2\n",
      "\n",
      "inf_west_europe\n",
      "0.00\t1.00\t0.33\t0.00\t17\n",
      "\n",
      "inf_east_europe\n",
      "0.00\t1.00\t0.06\t0.00\t3\n",
      "\n",
      "inf_africa\n",
      "0.00\t1.00\t0.06\t0.00\t3\n",
      "\n",
      "inf_oceania\n",
      "0.00\t1.00\t0.02\t0.00\t1\n",
      "\n",
      "is_fiction\n",
      "0.00\t1.00\t0.55\t1.00\t28\n",
      "\n",
      "is_nonfiction\n",
      "0.00\t1.00\t0.45\t0.00\t23\n",
      "\n",
      "is_adventure\n",
      "0.00\t1.00\t0.10\t0.00\t5\n",
      "\n",
      "is_biography\n",
      "0.00\t1.00\t0.02\t0.00\t1\n",
      "\n",
      "is_drama\n",
      "0.00\t1.00\t0.02\t0.00\t1\n",
      "\n",
      "is_expository\n",
      "0.00\t1.00\t0.20\t0.00\t10\n",
      "\n",
      "is_historical_ficition\n",
      "0.00\t1.00\t0.14\t0.00\t7\n",
      "\n",
      "is_memoir\n",
      "0.00\t1.00\t0.12\t0.00\t6\n",
      "\n",
      "is_philosophy\n",
      "0.00\t1.00\t0.20\t0.00\t10\n",
      "\n",
      "is_poetry\n",
      "0.00\t1.00\t0.08\t0.00\t4\n",
      "\n",
      "is_political_science\n",
      "0.00\t1.00\t0.06\t0.00\t3\n",
      "\n",
      "is_realistic_fiction\n",
      "0.00\t1.00\t0.20\t0.00\t10\n",
      "\n",
      "is_religion\n",
      "0.00\t1.00\t0.06\t0.00\t3\n",
      "\n",
      "is_science\n",
      "0.00\t1.00\t0.27\t0.00\t14\n",
      "\n",
      "is_sci_fi\n",
      "0.00\t1.00\t0.08\t0.00\t4\n",
      "\n",
      "is_short_story\n",
      "0.00\t1.00\t0.06\t0.00\t3\n",
      "\n",
      "is_female\n",
      "0.00\t1.00\t0.12\t0.00\t6\n",
      "\n",
      "agg_rating\n",
      "3.17\t4.50\t4.00\t4.00\t204.01999999999998\n",
      "\n",
      "pages\n",
      "33.00\t854.00\t236.04\t218.00\t12038\n",
      "\n",
      "pub_year\n",
      "1957.00\t2016.00\t2003.45\t2005.00\t102176\n",
      "\n",
      "org_pub_year\n",
      "-390.00\t2016.00\t1761.18\t1996.00\t89820\n",
      "\n",
      "duration\n",
      "0.00\t122.00\t17.80\t8.00\t908\n",
      "\n",
      "rating\n",
      "1.00\t5.00\t3.55\t4.00\t181\n",
      "\n"
     ]
    }
   ],
   "source": [
    "print('Minimum\\tMaximum\\tMean\\tMedian\\tSum\\n')\n",
    "\n",
    "for col in pd.concat([data_numeric, target], axis=1):\n",
    "    print('{}\\n{:.2f}\\t{:.2f}\\t{:.2f}\\t{:.2f}\\t{}\\n'.format(\n",
    "        col, \n",
    "        data[col].min(), \n",
    "        data[col].max(), \n",
    "        data[col].mean(), \n",
    "        data[col].median(), \n",
    "        data[col].sum()))"
   ]
  },
  {
   "cell_type": "code",
   "execution_count": 17,
   "metadata": {
    "collapsed": true
   },
   "outputs": [
    {
     "name": "stdout",
     "output_type": "stream",
     "text": [
      "12344\n",
      "(51, 30)\n"
     ]
    },
    {
     "data": {
      "image/png": "[encoded data removed]",
      "text/plain": [
       "<matplotlib.figure.Figure at 0x1a22517748>"
      ]
     },
     "metadata": {},
     "output_type": "display_data"
    },
    {
     "name": "stdout",
     "output_type": "stream",
     "text": [
      "float64\n",
      "56\n"
     ]
    }
   ],
   "source": [
    "print(sys.getsizeof(data_numeric))\n",
    "print(data_numeric.shape)\n",
    "\n",
    "data_numeric.fillna(0, inplace=True)\n",
    "\n",
    "plt.figure(figsize=(6,10))\n",
    "plt.spy(data_numeric)\n",
    "plt.show()\n",
    "\n",
    "data_numeric['org_pub_year'] -= min(data_numeric['org_pub_year']) - 1\n",
    "\n",
    "sparse_data_numeric = sparse.csr_matrix(data_numeric)\n",
    "\n",
    "print(sparse_data_numeric.dtype)\n",
    "print(sys.getsizeof(sparse_data_numeric))"
   ]
  },
  {
   "cell_type": "code",
   "execution_count": 18,
   "metadata": {},
   "outputs": [],
   "source": [
    "scaled_sparse_data_numeric = preprocessing.scale(sparse_data_numeric, with_mean=False)\n",
    "\n",
    "quantile_trans_sparse_data_numeric = preprocessing.quantile_transform(\n",
    "    sparse_data_numeric,\n",
    "    output_distribution='normal')\n",
    "\n",
    "normal_sparse_data_matrix = preprocessing.normalize(sparse_data_numeric)"
   ]
  },
  {
   "cell_type": "code",
   "execution_count": 19,
   "metadata": {},
   "outputs": [
    {
     "data": {
      "text/plain": [
       "[]"
      ]
     },
     "execution_count": 19,
     "metadata": {},
     "output_type": "execute_result"
    }
   ],
   "source": [
    "def find_correlation(df, thresh=0.9):\n",
    "    \"\"\"\n",
    "    Given a numeric pd.DataFrame, this will find highly correlated features,\n",
    "    and return a list of features to remove\n",
    "    params:\n",
    "    - df : pd.DataFrame\n",
    "    - thresh : correlation threshold, will remove one of pairs of features with\n",
    "               a correlation greater than this value\n",
    "               \n",
    "    Created by Scott Warchal\n",
    "    https://gist.github.com/Swarchal/881976176aaeb21e8e8df486903e99d6\n",
    "    \"\"\"\n",
    "    \n",
    "    corrMatrix = df.corr()\n",
    "    corrMatrix.loc[:,:] =  np.tril(corrMatrix, k=-1)\n",
    "\n",
    "    already_in = set()\n",
    "    result = []\n",
    "\n",
    "    for col in corrMatrix:\n",
    "        perfect_corr = corrMatrix[col][corrMatrix[col] > thresh].index.tolist()\n",
    "        if perfect_corr and col not in already_in:\n",
    "            already_in.update(set(perfect_corr))\n",
    "            perfect_corr.append(col)\n",
    "            result.append(perfect_corr)\n",
    "\n",
    "\n",
    "    select_nested = [f[1:] for f in result]\n",
    "    select_flat = [i for j in select_nested for i in j]\n",
    "    return select_flat\n",
    "\n",
    "find_correlation(data_numeric, 0.7)"
   ]
  },
  {
   "cell_type": "code",
   "execution_count": 21,
   "metadata": {},
   "outputs": [
    {
     "name": "stdout",
     "output_type": "stream",
     "text": [
      "[ 0.53695184  0.41893296  0.04307052]\n",
      "[ 0.03174465  0.24913326  0.15743499]\n",
      "[ 0.11343838  0.84707205  0.03839033]\n"
     ]
    },
    {
     "data": {
      "image/png": "[encoded data removed]",
      "text/plain": [
       "<matplotlib.figure.Figure at 0x1a22bae550>"
      ]
     },
     "metadata": {},
     "output_type": "display_data"
    }
   ],
   "source": [
    "# https://dziganto.github.io/Sparse-Matrices-For-Efficient-Machine-Learning/\n",
    "\n",
    "fig = plt.figure(figsize=(12,12))\n",
    "fig.suptitle(\"Dimensionality Reductions on Scales and QuantileTransforms\")\n",
    "\n",
    "components = 3\n",
    "\n",
    "\n",
    "plt.subplot(3, 2, 1)\n",
    "plt.title(\"Unscaled + TruncatedSVD\")\n",
    "\n",
    "tsvd_decomp = TruncatedSVD(n_components=components).fit(sparse_data_numeric)\n",
    "print(tsvd_decomp.explained_variance_ratio_)\n",
    "tsvd_decomp = tsvd_decomp.transform(sparse_data_numeric)\n",
    "\n",
    "a = tsvd_decomp[:,0]\n",
    "b = tsvd_decomp[:,1]\n",
    "sns.regplot(a,b, fit_reg=False)\n",
    "\n",
    "plt.subplot(3, 2, 2)\n",
    "plt.title(\"QuantileTrans + PCA\")\n",
    "\n",
    "pca_decomp = TruncatedSVD(n_components=components).fit(quantile_trans_sparse_data_numeric)\n",
    "print(pca_decomp.explained_variance_ratio_)\n",
    "pca_decomp = pca_decomp.transform(quantile_trans_sparse_data_numeric)\n",
    "\n",
    "a = pca_decomp[:,0]\n",
    "b = pca_decomp[:,1]\n",
    "sns.regplot(a,b, fit_reg=False)\n",
    "\n",
    "plt.subplot(3, 2, 3)\n",
    "plt.title(\"Normalized + TruncatedSVD\")\n",
    "\n",
    "norm_tsvd_decomp = TruncatedSVD(n_components=components).fit(normal_sparse_data_matrix)\n",
    "print(norm_tsvd_decomp.explained_variance_ratio_)\n",
    "norm_tsvd_decomp = norm_tsvd_decomp.transform(normal_sparse_data_matrix)\n",
    "\n",
    "a = norm_tsvd_decomp[:,0]\n",
    "b = norm_tsvd_decomp[:,1]\n",
    "sns.regplot(a,b, fit_reg=False)\n",
    "\n",
    "plt.subplot(3, 2, 4)\n",
    "plt.title(\"Normalized + KernelPCA\")\n",
    "\n",
    "norm_kpca_decomp = KernelPCA(n_components=components).fit_transform(normal_sparse_data_matrix)\n",
    "\n",
    "a = norm_kpca_decomp[:,0]\n",
    "b = norm_kpca_decomp[:,1]\n",
    "sns.regplot(a,b, fit_reg=False)\n",
    "\n",
    "plt.subplot(3, 2, 5)\n",
    "plt.title(\"Scaled + KernelPCA\")\n",
    "kpca_s_decomp = KernelPCA(n_components=components).fit_transform(scaled_sparse_data_numeric)\n",
    "\n",
    "a = kpca_s_decomp[:, 0]\n",
    "b = kpca_s_decomp[:, 1]\n",
    "sns.regplot(a,b,fit_reg=False)\n",
    "\n",
    "plt.subplot(3, 2, 6)\n",
    "plt.title(\"QuantileTrans + KernelPCA\")\n",
    "kpca_qt_decomp = KernelPCA(n_components=components).fit_transform(quantile_trans_sparse_data_numeric)\n",
    "\n",
    "a = kpca_qt_decomp[:, 0]\n",
    "b = kpca_qt_decomp[:, 1]\n",
    "sns.regplot(a,b,fit_reg=False)\n",
    "\n",
    "plt.show()\n"
   ]
  },
  {
   "cell_type": "code",
   "execution_count": 22,
   "metadata": {},
   "outputs": [],
   "source": [
    "sets = {\n",
    "    'Scaled_Sparse_Data': scaled_sparse_data_numeric, \n",
    "    'Scaled-TruncatedSVD': tsvd_decomp, \n",
    "    'Quantile_Transform-PCA': pca_decomp, \n",
    "    'Normalized-TruncatedSVD': norm_tsvd_decomp, \n",
    "    'Normalized-KernelPCA': norm_kpca_decomp, \n",
    "    'Scaled-KernelPCA': kpca_s_decomp, \n",
    "    'Quantile_Transform-KernelPCA': kpca_qt_decomp\n",
    "}\n"
   ]
  },
  {
   "cell_type": "code",
   "execution_count": 27,
   "metadata": {
    "collapsed": true
   },
   "outputs": [
    {
     "name": "stdout",
     "output_type": "stream",
     "text": [
      "searching\n",
      "\n",
      "search Scaled_Sparse_Data\n",
      "LogisticRegression done\n",
      "RidgeClassifier done\n",
      "SGDClassifier done\n",
      "KNeighborsClassifier done\n",
      "SVC done\n",
      "RandomForestClassifier done\n",
      "AdaBoostClassifier done\n",
      "MLPClassifier done\n",
      "\n",
      "search Scaled-TruncatedSVD\n",
      "LogisticRegression done\n",
      "RidgeClassifier done\n",
      "SGDClassifier done\n",
      "KNeighborsClassifier done\n",
      "SVC done\n",
      "RandomForestClassifier done\n",
      "AdaBoostClassifier done\n",
      "MLPClassifier done\n",
      "\n",
      "search Quantile_Transform-PCA\n",
      "LogisticRegression done\n",
      "RidgeClassifier done\n",
      "SGDClassifier done\n",
      "KNeighborsClassifier done\n",
      "SVC done\n",
      "RandomForestClassifier done\n",
      "AdaBoostClassifier done\n",
      "MLPClassifier done\n",
      "\n",
      "search Normalized-TruncatedSVD\n",
      "LogisticRegression done\n",
      "RidgeClassifier done\n",
      "SGDClassifier done\n",
      "KNeighborsClassifier done\n",
      "SVC done\n",
      "RandomForestClassifier done\n",
      "AdaBoostClassifier done\n",
      "MLPClassifier done\n",
      "\n",
      "search Normalized-KernelPCA\n",
      "LogisticRegression done\n",
      "RidgeClassifier done\n",
      "SGDClassifier done\n",
      "KNeighborsClassifier done\n",
      "SVC done\n",
      "RandomForestClassifier done\n",
      "AdaBoostClassifier done\n",
      "MLPClassifier done\n",
      "\n",
      "search Scaled-KernelPCA\n",
      "LogisticRegression done\n",
      "RidgeClassifier done\n",
      "SGDClassifier done\n",
      "KNeighborsClassifier done\n",
      "SVC done\n",
      "RandomForestClassifier done\n",
      "AdaBoostClassifier done\n",
      "MLPClassifier done\n",
      "\n",
      "search Quantile_Transform-KernelPCA\n",
      "LogisticRegression done\n",
      "RidgeClassifier done\n",
      "SGDClassifier done\n",
      "KNeighborsClassifier done\n",
      "SVC done\n",
      "RandomForestClassifier done\n",
      "AdaBoostClassifier done\n",
      "MLPClassifier done\n"
     ]
    }
   ],
   "source": [
    "models = {\n",
    "    'LogisticRegression': LogisticRegression(),\n",
    "    'RidgeClassifier': RidgeClassifier(),\n",
    "    'SGDClassifier': SGDClassifier(),\n",
    "    'KNeighborsClassifier': KNeighborsClassifier(),\n",
    "    'SVC': SVC(),\n",
    "    'RandomForestClassifier': RandomForestClassifier(),\n",
    "    'AdaBoostClassifier': AdaBoostClassifier(),\n",
    "    'MLPClassifier': MLPClassifier()\n",
    "}\n",
    "params = {\n",
    "    'LogisticRegression': {\n",
    "        'C': [0.0001, 0.001, 0.01, 0.1, 0.5, 1.],\n",
    "        'penalty': ['l2', 'l1']\n",
    "    },\n",
    "    'RidgeClassifier': {\n",
    "        'alpha': [0.0001, 0.001, 0.01, 0.1, 1., 10., 100., 500., 1000.]\n",
    "    },\n",
    "    'SGDClassifier': {\n",
    "        'alpha': [0.0001, 0.001, 0.01, 0.1, 1., 10., 100.],\n",
    "        'max_iter': [500, 1000, 2500],\n",
    "        'loss': ['hinge', 'squared_hinge'],\n",
    "        'penalty': ['l2', 'l1']\n",
    "    },\n",
    "    'KNeighborsClassifier': {\n",
    "        'n_neighbors': [2, 3, 4, 6, 8, 10, 12, 14],\n",
    "        'leaf_size': [2, 3, 6, 10, 20, 30]\n",
    "    },\n",
    "    'SVC': {\n",
    "        'C': [0.000000001, 0.000001, 0.00001, 0.001, 0.01, 0.1, 0.5, 1., 2., 10.],\n",
    "        'kernel': ['linear', 'rbf'],\n",
    "        'gamma': ['auto', 0.1, 1., 2., 10.]\n",
    "    },\n",
    "    'RandomForestClassifier': {\n",
    "        'max_features': ['auto', 'log2', 0.25, 0.5, 0.75, 1],\n",
    "        'n_estimators': [1, 3, 5, 7, 10, 25, 50, 75, 100],\n",
    "        'max_depth': [3, 5, 7, 10, 20, None]\n",
    "    },\n",
    "    'AdaBoostClassifier': {\n",
    "        'n_estimators': [1, 3, 5, 7, 10, 25, 50, 75, 100]\n",
    "    },\n",
    "    'MLPClassifier': {\n",
    "        'activation': ['relu', 'logistic'],\n",
    "        'learning_rate_init': [1e-6, 1e-5, 1e-4],\n",
    "        'max_iter': [2000, 3000, 4000],\n",
    "        'solver': ['lbfgs'],\n",
    "        'hidden_layer_sizes': [(25,),(23,),(21,),(19,),(17,),(15,),(13,),(11,),(9,),(7,)]\n",
    "    }\n",
    "}\n"
   ]
  },
  {
   "cell_type": "code",
   "execution_count": 32,
   "metadata": {
    "collapsed": true
   },
   "outputs": [
    {
     "name": "stdout",
     "output_type": "stream",
     "text": [
      "searching\n",
      "\n",
      "search Scaled_Sparse_Data\n",
      "LogisticRegression done\n",
      "RidgeClassifier done\n",
      "SGDClassifier done\n",
      "KNeighborsClassifier done\n",
      "SVC done\n",
      "RandomForestClassifier done\n",
      "AdaBoostClassifier done\n",
      "MLPClassifier done\n",
      "\n",
      "search Scaled-TruncatedSVD\n",
      "LogisticRegression done\n",
      "RidgeClassifier done\n",
      "SGDClassifier done\n",
      "KNeighborsClassifier done\n",
      "SVC done\n",
      "RandomForestClassifier done\n",
      "AdaBoostClassifier done\n",
      "MLPClassifier done\n",
      "\n",
      "search Quantile_Transform-PCA\n",
      "LogisticRegression done\n",
      "RidgeClassifier done\n",
      "SGDClassifier done\n",
      "KNeighborsClassifier done\n",
      "SVC done\n",
      "RandomForestClassifier done\n",
      "AdaBoostClassifier done\n",
      "MLPClassifier done\n",
      "\n",
      "search Normalized-TruncatedSVD\n",
      "LogisticRegression done\n",
      "RidgeClassifier done\n",
      "SGDClassifier done\n",
      "KNeighborsClassifier done\n",
      "SVC done\n",
      "RandomForestClassifier done\n",
      "AdaBoostClassifier done\n",
      "MLPClassifier done\n",
      "\n",
      "search Normalized-KernelPCA\n",
      "LogisticRegression done\n",
      "RidgeClassifier done\n",
      "SGDClassifier done\n",
      "KNeighborsClassifier done\n",
      "SVC done\n",
      "RandomForestClassifier done\n",
      "AdaBoostClassifier done\n",
      "MLPClassifier done\n",
      "\n",
      "search Scaled-KernelPCA\n",
      "LogisticRegression done\n",
      "RidgeClassifier done\n",
      "SGDClassifier done\n",
      "KNeighborsClassifier done\n",
      "SVC done\n",
      "RandomForestClassifier done\n",
      "AdaBoostClassifier done\n",
      "MLPClassifier done\n",
      "\n",
      "search Quantile_Transform-KernelPCA\n",
      "LogisticRegression done\n",
      "RidgeClassifier done\n",
      "SGDClassifier done\n",
      "KNeighborsClassifier done\n",
      "SVC done\n",
      "RandomForestClassifier done\n",
      "AdaBoostClassifier done\n",
      "MLPClassifier done\n"
     ]
    }
   ],
   "source": [
    "searches = {}\n",
    "\n",
    "print('searching')\n",
    "\n",
    "for set in sets:\n",
    "    \n",
    "    X = sets[set]\n",
    "    y = np.array(target).ravel()\n",
    "    \n",
    "    X_train, X_test, y_train, y_test = train_test_split(X, y, test_size=0.2, stratify=y)\n",
    "    \n",
    "    print('\\nsearch ' + set)\n",
    "    \n",
    "    for key in models.keys():\n",
    "        \n",
    "        gs = GridSearchCV(models[key], params[key], cv=2, return_train_score=True)\n",
    "        gs.fit(X_train, y_train)\n",
    "        searches[set + '__' + key] = gs\n",
    "        \n",
    "        print(key + ' done')\n",
    "        \n"
   ]
  },
  {
   "cell_type": "code",
   "execution_count": 63,
   "metadata": {},
   "outputs": [
    {
     "data": {
      "text/plain": [
       "<matplotlib.axes._subplots.AxesSubplot at 0x1a24aea898>"
      ]
     },
     "execution_count": 63,
     "metadata": {},
     "output_type": "execute_result"
    },
    {
     "data": {
      "image/png": "[encoded data removed]",
      "text/plain": [
       "<matplotlib.figure.Figure at 0x1a24877470>"
      ]
     },
     "metadata": {},
     "output_type": "display_data"
    }
   ],
   "source": [
    "def mean_squared_classifier(y_true, y_pred):\n",
    "    sqr_sum = 0\n",
    "    for y0, y1 in zip(y_pred, y_true):\n",
    "        y0 = (y0 - 1) / 4\n",
    "        y1 = (y1 - 1) / 4\n",
    "\n",
    "        sqr_sum += pow(y1 - y0, 2)\n",
    "\n",
    "    return 1 - sqr_sum / len(y_true)\n",
    "\n",
    "scorer = make_scorer(mean_squared_classifier, greater_is_better=True)\n",
    "\n",
    "results = pd.DataFrame(0, index=models, columns=sets.keys())\n",
    "\n",
    "for search in searches:\n",
    "\n",
    "    set, model = search.split('__')\n",
    "\n",
    "    clf = models[model]\n",
    "    clf.set_params(**searches[search].best_params_)\n",
    "    clf.fit(X_train, y_train)\n",
    "\n",
    "    results.loc[model, set] += scorer(clf, X_test, y_test)\n",
    "\n",
    "plt.figure(figsize=(10, 7))\n",
    "plt.suptitle('Classifier by Transformation')\n",
    "sns.heatmap(results, annot=True, fmt=\"0.3f\", cmap='RdYlGn')\n"
   ]
  },
  {
   "cell_type": "code",
   "execution_count": 67,
   "metadata": {},
   "outputs": [
    {
     "data": {
      "text/plain": [
       "{'alpha': 0.0001, 'loss': 'hinge', 'max_iter': 500, 'penalty': 'l2'}"
      ]
     },
     "execution_count": 67,
     "metadata": {},
     "output_type": "execute_result"
    }
   ],
   "source": [
    "select = 'Quantile_Transform-PCA__SGDClassifier'\n",
    "\n",
    "searches[select].best_params_"
   ]
  },
  {
   "cell_type": "code",
   "execution_count": 73,
   "metadata": {},
   "outputs": [
    {
     "name": "stdout",
     "output_type": "stream",
     "text": [
      "[3 5 4 3 4 4 3 3 2 5 4]\n",
      "[2 3 4 5 4 3 4 4 4 4 4]\n",
      "0.903\n",
      "\n",
      "\n",
      "[4 4 2 5 4 3 4 5 3 3 3]\n",
      "[4 5 5 5 4 4 5 4 4 3 4]\n",
      "0.915\n",
      "\n",
      "\n",
      "[3 4 3 4 2 5 4 4 3 3 5]\n",
      "[3 3 4 5 3 4 4 5 3 3 3]\n",
      "0.943\n",
      "\n",
      "\n",
      "[3 5 4 5 4 4 3 3 3 4 2]\n",
      "[3 5 5 5 1 3 4 4 5 5 4]\n",
      "0.875\n",
      "\n",
      "\n",
      "[3 4 3 2 4 3 4 3 5 4 5]\n",
      "[3 3 3 5 2 3 2 2 5 3 4]\n",
      "0.881\n",
      "\n",
      "\n",
      "Quantile_Transform-PCA__SGDClassifier\n",
      "0.903\n",
      "\n",
      "\n"
     ]
    }
   ],
   "source": [
    "y = np.array(target).ravel()\n",
    "\n",
    "set, model = select.split('__')\n",
    "\n",
    "clf = models[model]\n",
    "clf.set_params(**searches[select].best_params_)\n",
    "\n",
    "n = 5\n",
    "\n",
    "scores = np.zeros((n,))\n",
    "\n",
    "for j in range(n):\n",
    "    a, b, c, d = train_test_split(kpca_qt_decomp, y, test_size=0.2, stratify=y)\n",
    "\n",
    "    clf.fit(a, c)\n",
    "    s = scorer(clf, b, d)\n",
    "    scores[j] = s\n",
    "    print('{}\\n{}\\n{:.3f}\\n\\n'.format(d, clf.predict(b), s))\n",
    "\n",
    "\n",
    "print('{}\\n{:.3f}\\n\\n'.format(select, scores.mean()))\n"
   ]
  },
  {
   "cell_type": "code",
   "execution_count": 62,
   "metadata": {},
   "outputs": [],
   "source": []
  },
  {
   "cell_type": "code",
   "execution_count": null,
   "metadata": {},
   "outputs": [],
   "source": []
  }
 ],
 "metadata": {
  "kernelspec": {
   "display_name": "Python 3",
   "language": "python",
   "name": "python3"
  },
  "language_info": {
   "codemirror_mode": {
    "name": "ipython",
    "version": 3
   },
   "file_extension": ".py",
   "mimetype": "text/x-python",
   "name": "python",
   "nbconvert_exporter": "python",
   "pygments_lexer": "ipython3",
   "version": "3.6.3"
  }
 },
 "nbformat": 4,
 "nbformat_minor": 1
}
