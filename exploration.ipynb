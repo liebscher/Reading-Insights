{
 "cells": [
  {
   "cell_type": "code",
   "execution_count": 1,
   "metadata": {
    "collapsed": true
   },
   "outputs": [],
   "source": [
    "import pandas as pd\n",
    "import numpy as np\n",
    "import sys\n",
    "\n",
    "from scipy import sparse\n",
    "from scipy.stats import stats\n",
    "\n",
    "\n",
    "import wikipedia\n",
    "from wikipedia import DisambiguationError\n",
    "\n",
    "from watson_developer_cloud import NaturalLanguageUnderstandingV1\n",
    "from watson_developer_cloud.natural_language_understanding_v1 import Features, ConceptsOptions\n",
    "\n",
    "import matplotlib.pyplot as plt\n",
    "import seaborn as sns\n",
    "\n",
    "from itertools import chain\n",
    "\n",
    "from fuzzywuzzy import fuzz\n",
    "\n",
    "from sklearn import preprocessing\n",
    "from sklearn.decomposition import PCA, KernelPCA, TruncatedSVD\n",
    "from sklearn.model_selection import train_test_split\n",
    "from sklearn.gaussian_process import GaussianProcessClassifier\n",
    "from sklearn.model_selection import GridSearchCV\n",
    "from sklearn.linear_model import LogisticRegression, RidgeClassifier, SGDClassifier\n",
    "from sklearn.naive_bayes import GaussianNB\n",
    "from sklearn.svm import SVC\n",
    "from sklearn.neighbors import KNeighborsClassifier\n",
    "from sklearn.ensemble import RandomForestClassifier, AdaBoostClassifier"
   ]
  },
  {
   "cell_type": "code",
   "execution_count": 2,
   "metadata": {},
   "outputs": [],
   "source": [
    "sns.set_style('darkgrid')"
   ]
  },
  {
   "cell_type": "code",
   "execution_count": 3,
   "metadata": {},
   "outputs": [],
   "source": [
    "ibm_creds = {\n",
    "  \"url\": \"https://gateway.watsonplatform.net/natural-language-understanding/api\",\n",
    "  \"username\": \"bb7a01e4-be21-44f1-83a3-2c316cf57d73\",\n",
    "  \"password\": \"x5LAoqvRykNR\"\n",
    "}\n",
    "natural_language_understanding = NaturalLanguageUnderstandingV1(\n",
    "  username=ibm_creds['username'],\n",
    "  password=ibm_creds['password'],\n",
    "  version='2017-02-27')"
   ]
  },
  {
   "cell_type": "code",
   "execution_count": 17,
   "metadata": {},
   "outputs": [
    {
     "name": "stdout",
     "output_type": "stream",
     "text": [
      "(51, 37)\nbook_id                            int64\ntitle                             object\nauthor                            object\ninf_north_amer                     int64\ninf_south_central_amer             int64\ninf_asia                           int64\ninf_middle_east                    int64\ninf_west_europe                    int64\ninf_east_europe                    int64\ninf_africa                         int64\ninf_oceania                        int64\nis_female                          int64\nisbn13                           float64\nrating                             int64\nagg_rating                       float64\npages                              int64\npub_year                           int64\norg_pub_year                       int64\nfinished                  datetime64[ns]\nstarted                   datetime64[ns]\nduration                           int64\nis_fiction                         int64\nis_nonfiction                      int64\nis_adventure                       int64\nis_biography                       int64\nis_drama                           int64\nis_expository                      int64\nis_historical_ficition             int64\nis_memoir                          int64\nis_philosophy                      int64\nis_poetry                          int64\nis_political_science               int64\nis_realistic_fiction               int64\nis_religion                        int64\nis_science                         int64\nis_sci_fi                          int64\nis_short_story                     int64\ndtype: object\n    book_id                                              title  \\\n0   2280676         A Concise Introduction To Tibetan Buddhism   \n1  20821131     Acid Test: LSD, Ecstasy, and the Power to Heal   \n2  18143977                        All the Light We Cannot See   \n3     73945                                            Apology   \n4  20696006  Being Mortal: Medicine and What Matters in the...   \n\n                   author  inf_north_amer  inf_south_central_amer  inf_asia  \\\n0  John Powers (academic)               1                       0         1   \n1             Tom Shroder               1                       0         0   \n2           Anthony Doerr               1                       0         0   \n3                   Plato               0                       0         0   \n4            Atul Gawande               1                       0         1   \n\n   inf_middle_east  inf_west_europe  inf_east_europe  inf_africa  \\\n0                0                0                0           0   \n1                0                0                0           0   \n2                0                0                0           0   \n3                0                1                0           0   \n4                0                0                0           0   \n\n       ...        is_historical_ficition  is_memoir  is_philosophy  is_poetry  \\\n0      ...                             0          0              0          0   \n1      ...                             0          0              0          0   \n2      ...                             1          0              0          0   \n3      ...                             0          0              1          0   \n4      ...                             0          0              0          0   \n\n   is_political_science  is_realistic_fiction  is_religion  is_science  \\\n0                     0                     0            1           0   \n1                     0                     0            0           1   \n2                     0                     0            0           0   \n3                     0                     0            0           0   \n4                     0                     0            0           1   \n\n  is_sci_fi is_short_story  \n0         0              0  \n1         0              0  \n2         0              0  \n3         0              0  \n4         0              0  \n\n[5 rows x 37 columns]\n"
     ]
    }
   ],
   "source": [
    "data = pd.read_excel('/Users/alex/Documents/ReadingInsights/library_export.xlsx')\n",
    "print(data.shape)\n",
    "print(data.dtypes)\n",
    "print(data.head())"
   ]
  },
  {
   "cell_type": "code",
   "execution_count": 6,
   "metadata": {},
   "outputs": [
    {
     "name": "stdout",
     "output_type": "stream",
     "text": [
      "{'William Shakespeare': 'https://en.wikipedia.org/wiki/William_Shakespeare', 'Ernest Hemingway': 'https://en.wikipedia.org/wiki/Ernest_Hemingway', 'David Grossman': 'https://en.wikipedia.org/wiki/David_Grossman', 'Epictetus': 'https://en.wikipedia.org/wiki/Epictetus', 'Paul Kalanithi': 'https://en.wikipedia.org/wiki/Paul_Kalanithi', 'Khaled Hosseini': 'https://en.wikipedia.org/wiki/Khaled_Hosseini', 'Czeslaw Milosz': 'https://en.wikipedia.org/wiki/Czes%C5%82aw_Mi%C5%82osz', 'Mitch Albom': 'https://en.wikipedia.org/wiki/Mitch_Albom', 'Dalai Lama XIV': 'https://en.wikipedia.org/wiki/14th_Dalai_Lama', 'Thanissaro Bhikkhu': 'https://en.wikipedia.org/wiki/Thanissaro_Bhikkhu', 'Jim Afremow': 'https://en.wikipedia.org/wiki/Duncan_Armstrong', 'V.S. Ramachandran': 'https://en.wikipedia.org/wiki/Vilayanur_S._Ramachandran', 'Jack Spicer': 'https://en.wikipedia.org/wiki/Jack_Spicer', 'Tom Shroder': 'https://en.wikipedia.org/wiki/Tom_Shroder', 'Zora Neale Hurston': 'https://en.wikipedia.org/wiki/Zora_Neale_Hurston', 'Ted Sanders': 'https://en.wikipedia.org/wiki/Ted_Sanders', 'Varlam Shalamov': 'https://en.wikipedia.org/wiki/Varlam_Shalamov', 'Plato': 'https://en.wikipedia.org/wiki/Plato', 'Jon Krakauer': 'https://en.wikipedia.org/wiki/Jon_Krakauer', 'Maylis de Kerangal': 'https://en.wikipedia.org/wiki/Maylis_de_Kerangal', 'Thomas Mann': 'https://en.wikipedia.org/wiki/Thomas_Mann', 'Stefan Hildebrandt': 'https://en.wikipedia.org/wiki/Annalen_der_Physik', 'Toni Morrison': 'https://en.wikipedia.org/wiki/Toni_Morrison', 'Chuck Palahniuk': 'https://en.wikipedia.org/wiki/Chuck_Palahniuk', 'Jane Austen': 'https://en.wikipedia.org/wiki/Jane_Austen', 'John Powers (academic)': 'https://en.wikipedia.org/wiki/John_Powers_(academic)', 'Albert Camus': 'https://en.wikipedia.org/wiki/Albert_Camus', 'Marcus Aurelius': 'https://en.wikipedia.org/wiki/Marcus_Aurelius', 'Jean-Paul Sartre': 'https://en.wikipedia.org/wiki/Jean-Paul_Sartre', 'Aldous Huxley': 'https://en.wikipedia.org/wiki/Aldous_Huxley', 'Paulo Coelho': 'https://en.wikipedia.org/wiki/Paulo_Coelho', 'Barry M. Goldwater': 'https://en.wikipedia.org/wiki/Barry_Goldwater', 'John Steinbeck': 'https://en.wikipedia.org/wiki/John_Steinbeck', 'Alan Lightman': 'https://en.wikipedia.org/wiki/Alan_Lightman', 'Stephen Hawking': 'https://en.wikipedia.org/wiki/Stephen_Hawking', 'Anthony Doerr': 'https://en.wikipedia.org/wiki/Anthony_Doerr', 'Kurt Vonnegut Jr.': 'https://en.wikipedia.org/wiki/Kurt_Vonnegut', 'Atul Gawande': 'https://en.wikipedia.org/wiki/Atul_Gawande', 'William Strunk Jr.': 'https://en.wikipedia.org/wiki/William_Strunk_Jr.', 'Jules Verne': 'https://en.wikipedia.org/wiki/Jules_Verne', 'Russell Wild': 'https://en.wikipedia.org/wiki/Wild_Things_(film)', 'Tadeusz Borowski': 'https://en.wikipedia.org/wiki/Tadeusz_Borowski', 'Paul Krugman': 'https://en.wikipedia.org/wiki/Paul_Krugman', 'Maya Angelou': 'https://en.wikipedia.org/wiki/Maya_Angelou', 'Oliver Sacks': 'https://en.wikipedia.org/wiki/Oliver_Sacks', 'Gretchen Morgenson': 'https://en.wikipedia.org/wiki/Gretchen_Morgenson'}\n"
     ]
    }
   ],
   "source": [
    "authors = data['author']\n",
    "author_url = {}\n",
    "try:\n",
    "    for author in set(authors):\n",
    "        author_url[author] = wikipedia.page(author).url\n",
    "except DisambiguationError as err:\n",
    "    print(err)\n",
    "    \n",
    "print(author_url)"
   ]
  },
  {
   "cell_type": "code",
   "execution_count": 7,
   "metadata": {},
   "outputs": [],
   "source": [
    "author_url['Jim Afremow'] = 'http://www.goldmedalmind.net/about-dr-jim/'\n",
    "author_url['Stefan Hildebrandt'] = 'http://worldcat.org/identities/lccn-n80054555/'\n",
    "author_url['Russell Wild'] = 'https://www.napfa.org/member/5511/3203'"
   ]
  },
  {
   "cell_type": "code",
   "execution_count": 13,
   "metadata": {
    "collapsed": true
   },
   "outputs": [
    {
     "ename": "WatsonApiException",
     "evalue": "Error: attempt to fetch failed: :closed, Code: 400",
     "traceback": [
      "\u001b[0;31m---------------------------------------------------------------------------\u001b[0m",
      "\u001b[0;31mWatsonApiException\u001b[0m                        Traceback (most recent call last)",
      "\u001b[0;32m<ipython-input-13-710e2d38a93b>\u001b[0m in \u001b[0;36m<module>\u001b[0;34m()\u001b[0m\n\u001b[1;32m      6\u001b[0m       features=Features(\n\u001b[1;32m      7\u001b[0m         concepts=ConceptsOptions(\n\u001b[0;32m----> 8\u001b[0;31m         limit=8)))\n\u001b[0m\u001b[1;32m      9\u001b[0m     \u001b[0mconcepts\u001b[0m\u001b[0;34m[\u001b[0m\u001b[0mauthor\u001b[0m\u001b[0;34m]\u001b[0m \u001b[0;34m=\u001b[0m \u001b[0;34m[\u001b[0m\u001b[0;34m]\u001b[0m\u001b[0;34m\u001b[0m\u001b[0m\n\u001b[1;32m     10\u001b[0m     \u001b[0;32mfor\u001b[0m \u001b[0mconcept\u001b[0m \u001b[0;32min\u001b[0m \u001b[0mresponse\u001b[0m\u001b[0;34m[\u001b[0m\u001b[0;34m'concepts'\u001b[0m\u001b[0;34m]\u001b[0m\u001b[0;34m:\u001b[0m\u001b[0;34m\u001b[0m\u001b[0m\n",
      "\u001b[0;32m~/anaconda3/lib/python3.6/site-packages/watson_developer_cloud/natural_language_understanding_v1.py\u001b[0m in \u001b[0;36manalyze\u001b[0;34m(self, features, text, html, url, clean, xpath, fallback_to_raw, return_analyzed_text, language, limit_text_characters)\u001b[0m\n\u001b[1;32m    172\u001b[0m         \u001b[0murl\u001b[0m \u001b[0;34m=\u001b[0m \u001b[0;34m'/v1/analyze'\u001b[0m\u001b[0;34m\u001b[0m\u001b[0m\n\u001b[1;32m    173\u001b[0m         response = self.request(\n\u001b[0;32m--> 174\u001b[0;31m             method='POST', url=url, params=params, json=data, accept_json=True)\n\u001b[0m\u001b[1;32m    175\u001b[0m         \u001b[0;32mreturn\u001b[0m \u001b[0mresponse\u001b[0m\u001b[0;34m\u001b[0m\u001b[0m\n\u001b[1;32m    176\u001b[0m \u001b[0;34m\u001b[0m\u001b[0m\n",
      "\u001b[0;32m~/anaconda3/lib/python3.6/site-packages/watson_developer_cloud/watson_service.py\u001b[0m in \u001b[0;36mrequest\u001b[0;34m(self, method, url, accept_json, headers, params, json, data, files, **kwargs)\u001b[0m\n\u001b[1;32m    413\u001b[0m             \u001b[0merror_info\u001b[0m \u001b[0;34m=\u001b[0m \u001b[0mself\u001b[0m\u001b[0;34m.\u001b[0m\u001b[0m_get_error_info\u001b[0m\u001b[0;34m(\u001b[0m\u001b[0mresponse\u001b[0m\u001b[0;34m)\u001b[0m\u001b[0;34m\u001b[0m\u001b[0m\n\u001b[1;32m    414\u001b[0m             raise WatsonApiException(response.status_code, error_message,\n\u001b[0;32m--> 415\u001b[0;31m                                      error_info)\n\u001b[0m",
      "\u001b[0;31mWatsonApiException\u001b[0m: Error: attempt to fetch failed: :closed, Code: 400"
     ],
     "output_type": "error"
    }
   ],
   "source": [
    "concepts = {}\n",
    "for author in author_url:\n",
    "    response = natural_language_understanding.analyze(\n",
    "      url=author_url[author],\n",
    "        language='en',\n",
    "      features=Features(\n",
    "        concepts=ConceptsOptions(\n",
    "        limit=8)))\n",
    "    concepts[author] = []\n",
    "    for concept in response['concepts']:\n",
    "        concepts[author].append(concept['text'])\n",
    "        "
   ]
  },
  {
   "cell_type": "code",
   "execution_count": 98,
   "metadata": {
    "collapsed": true
   },
   "outputs": [],
   "source": [
    "mixed_concepts = list(chain.from_iterable(concepts.values()))\n",
    "\n",
    "def find_similarities(arr):\n",
    "    simplified_concepts = []\n",
    "    \n",
    "    for first in arr:\n",
    "        for second in arr:\n",
    "            simplest = min([first, second], key=len)\n",
    "            if first is not second and fuzz.partial_ratio(first, second) > 85 and simplest not in simplified_concepts:\n",
    "                #print((first, second, simplest))\n",
    "                simplified_concepts.append(simplest)\n",
    "                \n",
    "    return simplified_concepts\n",
    "\n",
    "a = find_similarities(mixed_concepts)\n",
    "final_concepts = find_similarities(a)"
   ]
  },
  {
   "cell_type": "code",
   "execution_count": 5,
   "metadata": {},
   "outputs": [],
   "source": [
    "data_object = data[['title', 'author',  'finished', 'started']]\n",
    "data_numeric = data[['inf_north_amer', 'inf_south_central_amer', 'inf_asia', 'inf_middle_east',\n",
    "       'inf_west_europe', 'inf_east_europe', 'inf_africa', 'inf_oceania',\n",
    "       'is_female', 'agg_rating', 'pages', 'pub_year',\n",
    "       'org_pub_year', 'duration', 'is_fiction',\n",
    "       'is_nonfiction', 'is_adventure', 'is_biography', 'is_drama',\n",
    "       'is_expository', 'is_historical_ficition', 'is_memoir', 'is_philosophy',\n",
    "       'is_poetry', 'is_political_science', 'is_realistic_fiction',\n",
    "       'is_religion', 'is_science', 'is_sci_fi', 'is_short_story']]\n",
    "target = data[['rating']]\n"
   ]
  },
  {
   "cell_type": "code",
   "execution_count": 6,
   "metadata": {
    "collapsed": true
   },
   "outputs": [
    {
     "name": "stdout",
     "output_type": "stream",
     "text": [
      "12344\nfloat64\n56\n"
     ]
    }
   ],
   "source": [
    "print(sys.getsizeof(data_numeric))\n",
    "\n",
    "sparse_data_numeric = sparse.csr_matrix(data_numeric)\n",
    "\n",
    "print(sparse_data_numeric.dtype)\n",
    "print(sys.getsizeof(sparse_data_numeric))"
   ]
  },
  {
   "cell_type": "code",
   "execution_count": 7,
   "metadata": {},
   "outputs": [],
   "source": [
    "scaled_sparse_data_numeric = preprocessing.scale(sparse_data_numeric.toarray(), with_mean=False)\n",
    "\n",
    "quantile_trans_sparse_data_numeric = preprocessing.quantile_transform(sparse_data_numeric.toarray(), output_distribution='normal')"
   ]
  },
  {
   "cell_type": "code",
   "execution_count": 8,
   "metadata": {},
   "outputs": [
    {
     "data": {
      "text/plain": [
       "[]"
      ]
     },
     "execution_count": 8,
     "metadata": {},
     "output_type": "execute_result"
    }
   ],
   "source": [
    "def find_correlation(df, thresh=0.9):\n",
    "    \"\"\"\n",
    "    Given a numeric pd.DataFrame, this will find highly correlated features,\n",
    "    and return a list of features to remove\n",
    "    params:\n",
    "    - df : pd.DataFrame\n",
    "    - thresh : correlation threshold, will remove one of pairs of features with\n",
    "               a correlation greater than this value\n",
    "               \n",
    "    Created by Scott Warchal\n",
    "    https://gist.github.com/Swarchal/881976176aaeb21e8e8df486903e99d6\n",
    "    \"\"\"\n",
    "    \n",
    "    corrMatrix = df.corr()\n",
    "    corrMatrix.loc[:,:] =  np.tril(corrMatrix, k=-1)\n",
    "\n",
    "    already_in = set()\n",
    "    result = []\n",
    "\n",
    "    for col in corrMatrix:\n",
    "        perfect_corr = corrMatrix[col][corrMatrix[col] > thresh].index.tolist()\n",
    "        if perfect_corr and col not in already_in:\n",
    "            already_in.update(set(perfect_corr))\n",
    "            perfect_corr.append(col)\n",
    "            result.append(perfect_corr)\n",
    "\n",
    "\n",
    "    select_nested = [f[1:] for f in result]\n",
    "    select_flat = [i for j in select_nested for i in j]\n",
    "    return select_flat\n",
    "\n",
    "find_correlation(data_numeric, 0.7)"
   ]
  },
  {
   "cell_type": "code",
   "execution_count": 9,
   "metadata": {},
   "outputs": [
    {
     "name": "stdout",
     "output_type": "stream",
     "text": [
      "[ 0.44695147  0.50900105  0.04300303]\n[ 0.26530556  0.18297211  0.09910943]\n"
     ]
    },
    {
     "data": {
      "image/png": "[encoded data removed]",
      "text/plain": [
       "<matplotlib.figure.Figure at 0x1182f18d0>"
      ]
     },
     "metadata": {},
     "output_type": "display_data"
    }
   ],
   "source": [
    "fig = plt.figure(figsize=(12,12))\n",
    "fig.suptitle(\"Dimensionality Reductions on Scales and QuantileTransforms\")\n",
    "\n",
    "plt.subplot(2, 2, 1)\n",
    "plt.title(\"Unscaled Truncated SVD\")\n",
    "\n",
    "components = 3\n",
    "\n",
    "tsvd_decomp = TruncatedSVD(n_components=components).fit(sparse_data_numeric)\n",
    "print(tsvd_decomp.explained_variance_ratio_)\n",
    "tsvd_decomp = tsvd_decomp.transform(sparse_data_numeric)\n",
    "\n",
    "a = tsvd_decomp[:,0]\n",
    "b = tsvd_decomp[:,1]\n",
    "sns.regplot(a,b, fit_reg=False)\n",
    "\n",
    "plt.subplot(2, 2, 2)\n",
    "plt.title(\"QuantileTrans PCA\")\n",
    "\n",
    "pca_decomp = PCA(n_components=components).fit(quantile_trans_sparse_data_numeric)\n",
    "print(pca_decomp.explained_variance_ratio_)\n",
    "pca_decomp = pca_decomp.transform(quantile_trans_sparse_data_numeric)\n",
    "\n",
    "a = pca_decomp[:,0]\n",
    "b = pca_decomp[:,1]\n",
    "sns.regplot(a,b, fit_reg=False)\n",
    "\n",
    "plt.subplot(2, 2, 3)\n",
    "plt.title(\"Scaled KernelPCA\")\n",
    "kpca_s_decomp = KernelPCA(n_components=components).fit_transform(scaled_sparse_data_numeric)\n",
    "\n",
    "a = kpca_s_decomp[:, 0]\n",
    "b = kpca_s_decomp[:, 1]\n",
    "sns.regplot(a,b,fit_reg=False)\n",
    "\n",
    "plt.subplot(2, 2, 4)\n",
    "plt.title(\"QuantileTrans KernelPCA\")\n",
    "kpca_qt_decomp = KernelPCA(n_components=components).fit_transform(quantile_trans_sparse_data_numeric)\n",
    "\n",
    "a = kpca_qt_decomp[:, 0]\n",
    "b = kpca_qt_decomp[:, 1]\n",
    "sns.regplot(a,b,fit_reg=False)\n",
    "\n",
    "plt.show()\n"
   ]
  },
  {
   "cell_type": "code",
   "execution_count": 11,
   "metadata": {},
   "outputs": [
    {
     "name": "stdout",
     "output_type": "stream",
     "text": [
      "AdaBoostClassifier score for Quantile Transform KernelPCA:\n\t0.54\tat split 0.25\n"
     ]
    }
   ],
   "source": [
    "sets = [scaled_sparse_data_numeric, tsvd_decomp, pca_decomp, kpca_s_decomp, kpca_qt_decomp]\n",
    "sets_labels = ['Scaled Sparse Data', 'Truncated SVD', 'PCA', 'Scaled KernelPCA', 'Quantile Transform KernelPCA']\n",
    "\n",
    "clfs = [LogisticRegression(), RidgeClassifier(), KNeighborsClassifier(),\n",
    "        SVC(), SGDClassifier(loss='hinge', max_iter=1000), AdaBoostClassifier(),\n",
    "        RandomForestClassifier(n_estimators=50)]\n",
    "\n",
    "score_threshold = 0.5\n",
    "\n",
    "for i, set in enumerate(sets):\n",
    "    X_train, X_test, y_train, y_test = train_test_split(\n",
    "        set, np.array(target).ravel(), test_size=0.25)\n",
    "\n",
    "    for clf in clfs:\n",
    "        clf = clf.fit(X_train, y_train)\n",
    "        score = clf.score(X_test, y_test)\n",
    "        if score > score_threshold:\n",
    "            print('{} score for {}:\\n\\t{:.2f}\\tat split {}'.format(clf.__class__.__name__, sets_labels[i], score, 0.25))\n"
   ]
  },
  {
   "cell_type": "code",
   "execution_count": 22,
   "metadata": {},
   "outputs": [],
   "source": [
    "\n",
    "X = scaled_sparse_data_numeric\n",
    "y = np.array(target).ravel()\n",
    "X_train, X_test, y_train, y_test = train_test_split(X, y, test_size=0.2, stratify=y)"
   ]
  },
  {
   "cell_type": "code",
   "execution_count": 23,
   "metadata": {},
   "outputs": [
    {
     "name": "stdout",
     "output_type": "stream",
     "text": [
      "TRAIN:\t[10 20 22 23 24 26 27 28 29 30 31 32 33 34 35 36 37 38 39]\nTEST:\t[ 0  1  2  3  4  5  6  7  8  9 11 12 13 14 15 16 17 18 19 21 25]\n\nTRAIN:\t[ 0  1  2  3  4  5  6  7  8  9 11 12 13 14 15 16 17 18 19 21 25]\nTEST:\t[10 20 22 23 24 26 27 28 29 30 31 32 33 34 35 36 37 38 39]\n\n"
     ]
    },
    {
     "data": {
      "text/plain": [
       "(21, 21)"
      ]
     },
     "execution_count": 23,
     "metadata": {},
     "output_type": "execute_result"
    }
   ],
   "source": [
    "from sklearn.model_selection import StratifiedKFold\n",
    "\n",
    "skf = StratifiedKFold(n_splits=2)\n",
    "\n",
    "for train_index, test_index in skf.split(X_train, y_train):\n",
    "   print('TRAIN:\\t{}\\nTEST:\\t{}\\n'.format(train_index,test_index))\n",
    "   a, c = X_train[train_index], X_train[test_index]\n",
    "   b, d = y_train[train_index], y_train[test_index]\n",
    "\n",
    "(len(train_index), len(b))"
   ]
  },
  {
   "cell_type": "code",
   "execution_count": 24,
   "metadata": {
    "collapsed": true
   },
   "outputs": [],
   "source": [
    "models = {\n",
    "    'LogisticRegression': LogisticRegression(),\n",
    "    'RidgeClassifier': RidgeClassifier(),\n",
    "    'SGDClassifier': SGDClassifier(),\n",
    "    'KNeighborsClassifier': KNeighborsClassifier(),\n",
    "    'SVC': SVC(),\n",
    "    'RandomForestClassifier': RandomForestClassifier(),\n",
    "    'AdaBoostClassifier': AdaBoostClassifier(),\n",
    "    'GaussianNB': GaussianNB(),\n",
    "    'GaussianProcessClassifier': GaussianProcessClassifier()\n",
    "}\n",
    "params = {\n",
    "    'LogisticRegression': {\n",
    "        'C': [0.000000001, 0.000001, 0.00001, 0.001, 0.01, 0.1, 0.5, 1., 2., 10.],\n",
    "        'penalty': ['l2', 'l1']\n",
    "    },\n",
    "    'RidgeClassifier': {\n",
    "        'alpha': [0.0001, 0.001, 0.01, 0.1, 1., 10., 100., 500., 1000.]\n",
    "    },\n",
    "    'SGDClassifier': {\n",
    "        'alpha': [0.0001, 0.001, 0.01, 0.1, 1., 10., 100.],\n",
    "        'max_iter': [500, 1000, 2500],\n",
    "        'loss': ['hinge', 'squared_hinge'],\n",
    "        'penalty': ['l2', 'l1']\n",
    "    },\n",
    "    'KNeighborsClassifier': {\n",
    "        'n_neighbors': [2, 3, 4, 6, 8, 10, 12, 14],\n",
    "        'leaf_size': [3, 6, 10, 20, 30, 40, 50, 60]\n",
    "    },\n",
    "    'SVC': {\n",
    "        'C': [0.000000001, 0.000001, 0.00001, 0.001, 0.01, 0.1, 0.5, 1., 2., 10.],\n",
    "        'kernel': ['linear', 'rbf'],\n",
    "        'gamma': ['auto', 0.1, 1., 2., 10.]\n",
    "    },\n",
    "    'RandomForestClassifier': {\n",
    "        'max_features': ['auto', 'log2', 0.25, 0.5, 0.75, 1],\n",
    "        'n_estimators': [1, 3, 5, 7, 10, 25, 50, 75, 100],\n",
    "        'max_depth': [3, 5, 7, 10, 20, None]\n",
    "    },\n",
    "    'AdaBoostClassifier': {\n",
    "        'n_estimators': [1, 3, 5, 7, 10, 25, 50, 75, 100]\n",
    "    },\n",
    "    'GaussianNB': {\n",
    "        \n",
    "    },\n",
    "    'GaussianProcessClassifier': {\n",
    "        \n",
    "    }\n",
    "}\n",
    "\n",
    "searches = {}\n",
    "\n",
    "for key in models.keys():\n",
    "    gs = GridSearchCV(models[key], params[key], cv=2, return_train_score=True)\n",
    "    gs.fit(X_train, y_train)\n",
    "    searches[key] = gs\n",
    "\n",
    "\n"
   ]
  },
  {
   "cell_type": "code",
   "execution_count": 26,
   "metadata": {
    "collapsed": false
   },
   "outputs": [
    {
     "name": "stdout",
     "output_type": "stream",
     "text": [
      "Estimating...\n\n\nLogisticRegression\n--------------------------------------------------\n[4 3 4 5 3 5 5 3 5 5 3]\n[4 3 2 4 3 4 5 3 5 4 3]\n0.9602\n\n\nRidgeClassifier\n--------------------------------------------------\n[4 4 4 4 2 5 5 3 5 5 3]\n[4 3 2 4 3 4 5 3 5 4 3]\n0.9545\n\n\nSGDClassifier\n--------------------------------------------------\n[3 3 3 5 3 5 5 3 5 5 3]\n[4 3 2 4 3 4 5 3 5 4 3]\n0.9716\n\n\nKNeighborsClassifier\n--------------------------------------------------\n[3 3 4 2 2 5 5 2 5 4 3]\n[4 3 2 4 3 4 5 3 5 4 3]\n0.9318\n\n\nSVC\n--------------------------------------------------\n[4 4 4 3 2 5 5 2 5 5 3]\n[4 3 2 4 3 4 5 3 5 4 3]\n0.9432\n\n\nRandomForestClassifier\n--------------------------------------------------\n[3 3 2 3 2 3 4 2 5 5 5]\n[4 3 2 4 3 4 5 3 5 4 3]\n0.9375\n\n\nAdaBoostClassifier\n--------------------------------------------------\n[3 1 4 4 3 4 4 3 4 4 3]\n[4 3 2 4 3 4 5 3 5 4 3]\n0.9375\n\n\nGaussianNB\n--------------------------------------------------\n[4 2 4 3 2 5 5 2 5 5 2]\n[4 3 2 4 3 4 5 3 5 4 3]\n0.9375\n\n\n"
     ]
    },
    {
     "name": "stdout",
     "output_type": "stream",
     "text": [
      "GaussianProcessClassifier\n--------------------------------------------------\n[4 3 4 3 2 5 5 3 4 4 4]\n[4 3 2 4 3 4 5 3 5 4 3]\n0.9489\n\n\n"
     ]
    }
   ],
   "source": [
    "print('Estimating...\\n\\n')\n",
    "\n",
    "def mean_squared_classifier(y_pred, y_true):\n",
    "    sqr_sum = 0\n",
    "    for y0, y1 in zip(y_pred, y_true):\n",
    "        y0 = (y0 - 1)/4\n",
    "        y1 = (y1 - 1)/4\n",
    "        \n",
    "        sqr_sum += pow(y1 - y0, 2)\n",
    "        \n",
    "    return 1-sqr_sum/len(y_true)\n",
    "    \n",
    "for search in searches:\n",
    "\n",
    "    clf = models[search]\n",
    "    clf.set_params(**searches[search].best_params_)\n",
    "    clf.fit(X_train, y_train)\n",
    "\n",
    "    print('{}\\n{}\\n{}\\n{}\\n{:.4f}\\n\\n'.format(\n",
    "        search, \n",
    "        '-'*50, \n",
    "        clf.predict(X_test),\n",
    "        y_test,\n",
    "        mean_squared_classifier(clf.predict(X_test), y_test)))\n"
   ]
  },
  {
   "cell_type": "code",
   "execution_count": null,
   "metadata": {},
   "outputs": [],
   "source": []
  }
 ],
 "metadata": {
  "kernelspec": {
   "display_name": "Python 2",
   "language": "python",
   "name": "python2"
  },
  "language_info": {
   "codemirror_mode": {
    "name": "ipython",
    "version": 2
   },
   "file_extension": ".py",
   "mimetype": "text/x-python",
   "name": "python",
   "nbconvert_exporter": "python",
   "pygments_lexer": "ipython2",
   "version": "2.7.6"
  }
 },
 "nbformat": 4,
 "nbformat_minor": 0
}
