{
 "cells": [
  {
   "cell_type": "markdown",
   "metadata": {
    "collapsed": true
   },
   "source": [
    "# Reading Insights\n",
    "### Insight and analysis of my reading behavior and habits\n",
    "\n",
    "December 2017 - January 2018\n",
    "\n",
    "## 1. Overview\n",
    "\n",
    "This is a collection of works designed to shed light on my reading behavior and habits. I have been recording individual books I've read since late 2015 with Goodreads.com. In December 2017, after starting this project, I carefully reassessed my rating of each book and readjusted the ratings to reflect better how that book fits into the grand scheme of the things I read.\n",
    "\n",
    "This project is a beginner's attempt at analysis thoroughly augmented by statistics and machine learning. It is still a work in progress and constructive feedback is welcomed warmly.\n",
    "\n",
    "## 2. Goals\n",
    "\n",
    "This project is motivated by these goals:\n",
    "\n",
    "1. Learn more about data analysis and machine learning through application\n",
    "2. What have I enjoyed reading? What haven't I enjoyed?\n",
    "3. Create a model that accurately predicts how much I'll like a certain book\n",
    "\n",
    "## 3. Content\n",
    "\n",
    "[exploration](exploration.ipynb)\n",
    "\n",
    "## 4. Discussion\n",
    "\n",
    "Coming soon!"
   ]
  },
  {
   "cell_type": "code",
   "execution_count": 1,
   "metadata": {},
   "outputs": [],
   "source": []
  },
  {
   "cell_type": "code",
   "execution_count": null,
   "metadata": {},
   "outputs": [],
   "source": []
  }
 ],
 "metadata": {
  "kernelspec": {
   "display_name": "Python 3",
   "language": "python",
   "name": "python3"
  },
  "language_info": {
   "codemirror_mode": {
    "name": "ipython",
    "version": 3
   },
   "file_extension": ".py",
   "mimetype": "text/x-python",
   "name": "python",
   "nbconvert_exporter": "python",
   "pygments_lexer": "ipython3",
   "version": "3.6.3"
  }
 },
 "nbformat": 4,
 "nbformat_minor": 1
}
