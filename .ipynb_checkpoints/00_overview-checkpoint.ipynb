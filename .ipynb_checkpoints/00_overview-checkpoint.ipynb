{
 "cells": [
  {
   "cell_type": "markdown",
   "metadata": {
    "collapsed": true
   },
   "source": [
    "# Reading Insights\n",
    "### Insight and analysis of my past and current reading behavior\n",
    "\n",
    "December 2017\n",
    "\n",
    "## 1. Overview\n",
    "\n",
    "This is a collection of works designed to shed light on my past reading behavior and habits. I have been recording the books I read since late 2015 with Goodreads.com. The website allows users to export their \"read\" shelf, which was teh first step in this project. In December 2017, after starting this project, I carefully reassessed my rating of each book and readjusted the ratings to reflect better how that book fits into the grand scheme of the things I read.\n",
    "\n",
    "This project is a beginner's attempt at analysis thoroughly augmented by statistics and machine learning. It is still a work in progress and constructive feedback is welcomed warmly.\n",
    "\n",
    "## 2. Goals\n",
    "\n",
    "This project is motivated by two goals:\n",
    "\n",
    "1. What have I enjoyed reading? What haven't I enjoyed?\n",
    "2. What will ensure the next book I read is one I like?\n",
    "\n",
    "I foresee these goals being met by extensively defining what I have read, organizing those findings in a way that a machine could interpret them, and then allowing a machine to uncover latent patterns not easily seen at a glance.\n",
    "\n",
    "## 3. Content\n",
    "\n",
    "## 4. Discussion"
   ]
  }
 ],
 "metadata": {
  "kernelspec": {
   "display_name": "Python 3",
   "language": "python",
   "name": "python3"
  },
  "language_info": {
   "codemirror_mode": {
    "name": "ipython",
    "version": 3
   },
   "file_extension": ".py",
   "mimetype": "text/x-python",
   "name": "python",
   "nbconvert_exporter": "python",
   "pygments_lexer": "ipython3",
   "version": "3.6.3"
  }
 },
 "nbformat": 4,
 "nbformat_minor": 1
}
